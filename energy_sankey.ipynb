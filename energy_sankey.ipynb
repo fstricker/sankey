{
 "cells": [
  {
   "cell_type": "code",
   "execution_count": 4,
   "metadata": {},
   "outputs": [],
   "source": [
    "# essential\n",
    "#functions.py holds all self-written f, so that this is merely execution/testing\n",
    "\n",
    "from functions import *\n",
    "\n",
    "from jupyter_dash import JupyterDash\n",
    "from dash import Dash, dcc, html, Input, Output\n",
    "import plotly.graph_objects as go\n",
    "import pandas as pd\n",
    "import numpy as np\n",
    "import re"
   ]
  },
  {
   "cell_type": "code",
   "execution_count": 5,
   "metadata": {},
   "outputs": [],
   "source": [
    "# essential\n",
    "#load and preprocess data\n",
    "\n",
    "df = load_data('data', 'EU_flow_data_20220322.csv', wide_boolean=True, idx_boolean=False)"
   ]
  },
  {
   "cell_type": "code",
   "execution_count": 3,
   "metadata": {
    "scrolled": false
   },
   "outputs": [
    {
     "data": {
      "application/vnd.plotly.v1+json": {
       "config": {
        "plotlyServerURL": "https://plot.ly"
       },
       "data": [
        {
         "arrangement": "snap",
         "link": {
          "color": [
           "#66c2a5",
           "#66c2a5",
           "#66c2a5",
           "#66c2a5",
           "#fc8d62",
           "#fc8d62",
           "#66c2a5",
           "#66c2a5",
           "#66c2a5",
           "#e78ac3",
           "#8da0cb",
           "#a6d854",
           "#a6d854",
           "#e78ac3",
           "#8da0cb",
           "#a6d854",
           "#e78ac3",
           "#8da0cb",
           "#e78ac3",
           "#a6d854",
           "#e78ac3",
           "#a6d854",
           "#8da0cb",
           "#e78ac3",
           "#66c2a5",
           "#66c2a5",
           "#66c2a5",
           "#66c2a5",
           "#e78ac3",
           "#8da0cb",
           "#a6d854",
           "#8da0cb",
           "#a6d854",
           "#8da0cb",
           "#e78ac3",
           "#a6d854",
           "#a6d854",
           "#8da0cb",
           "#66c2a5",
           "#66c2a5",
           "#66c2a5",
           "#fc8d62",
           "#fc8d62",
           "#66c2a5",
           "#8da0cb",
           "#8da0cb",
           "#fc8d62",
           "#fc8d62",
           "#8da0cb",
           "#66c2a5",
           "#8da0cb",
           "#fc8d62",
           "#fc8d62",
           "#66c2a5",
           "#66c2a5",
           "#66c2a5",
           "#e78ac3",
           "#8da0cb",
           "#a6d854",
           "#8da0cb",
           "#a6d854",
           "#8da0cb",
           "#e78ac3",
           "#8da0cb",
           "#8da0cb",
           "#8da0cb",
           "#66c2a5",
           "#66c2a5",
           "#66c2a5",
           "#e78ac3",
           "#8da0cb",
           "#a6d854",
           "#a6d854",
           "#8da0cb",
           "#8da0cb",
           "#a6d854",
           "#8da0cb",
           "#e78ac3",
           "#a6d854",
           "#66c2a5",
           "#66c2a5",
           "#66c2a5",
           "#8da0cb",
           "#a6d854",
           "#8da0cb",
           "#a6d854",
           "#8da0cb",
           "#e78ac3",
           "#a6d854",
           "#a6d854",
           "#8da0cb",
           "#e78ac3",
           "#a6d854",
           "#a6d854",
           "#66c2a5",
           "#8da0cb",
           "#8da0cb",
           "#8da0cb",
           "#66c2a5",
           "#66c2a5",
           "#66c2a5",
           "#8da0cb",
           "#a6d854",
           "#8da0cb",
           "#a6d854",
           "#8da0cb",
           "#e78ac3",
           "#a6d854",
           "#8da0cb",
           "#8da0cb",
           "#8da0cb",
           "#66c2a5",
           "#66c2a5",
           "#66c2a5",
           "#e78ac3",
           "#8da0cb",
           "#8da0cb",
           "#8da0cb",
           "#66c2a5",
           "#66c2a5",
           "#fc8d62",
           "#fc8d62",
           "#66c2a5",
           "#fc8d62",
           "#fc8d62",
           "#66c2a5",
           "#66c2a5",
           "#66c2a5",
           "#fc8d62",
           "#fc8d62",
           "#fc8d62",
           "#fc8d62",
           "#8da0cb",
           "#8da0cb",
           "#8da0cb",
           "#fc8d62",
           "#fc8d62",
           "#66c2a5",
           "#66c2a5",
           "#66c2a5",
           "#66c2a5",
           "#66c2a5",
           "#8da0cb",
           "#a6d854",
           "#a6d854",
           "#e78ac3",
           "#8da0cb",
           "#fc8d62",
           "#a6d854",
           "#fc8d62",
           "#e78ac3",
           "#8da0cb",
           "#e78ac3",
           "#a6d854",
           "#e78ac3",
           "#a6d854",
           "#8da0cb",
           "#e78ac3",
           "#66c2a5",
           "#e78ac3",
           "#66c2a5",
           "#66c2a5",
           "#8da0cb",
           "#a6d854",
           "#8da0cb",
           "#fc8d62",
           "#a6d854",
           "#fc8d62",
           "#8da0cb",
           "#e78ac3",
           "#8da0cb"
          ],
          "label": [
           "Agriculture biomass",
           "Fisheries biomass",
           "Forestry biomass",
           "Agriculture biomass",
           "Metal Ores",
           "Non-metallic Ores",
           "Bioenergy gaseos",
           "Bioenergy liquid",
           "Bioenergy solid",
           "Electricity",
           "Gaseos fossil fuel",
           "Geothermal",
           "Heat",
           "Hydropower",
           "Liquid fossil fuel",
           "Municipal waste",
           "Nuclear",
           "Other fossil fuel",
           "Other renewable energy",
           "Renewable heat",
           "Solar power",
           "Solar thermal",
           "Solid fossil fuel",
           "Windpower",
           "Agriculture biomass",
           "Bioenergy gaseos",
           "Bioenergy liquid",
           "Bioenergy solid",
           "Electricity",
           "Gaseos fossil fuel",
           "Geothermal",
           "Liquid fossil fuel",
           "Municipal waste",
           "Other fossil fuel",
           "Other renewable energy",
           "Renewable heat",
           "Solar thermal",
           "Solid fossil fuel",
           "Agriculture biomass",
           "Fisheries biomass",
           "Forestry biomass",
           "Metal Ores",
           "Non-metallic Ores",
           "Biomass",
           "Fossil",
           "Liquid fossil fuel",
           "Metal Ores",
           "Non-metallic Ores",
           "Solid fossil fuel",
           "Biomass",
           "Fossil",
           "Metal Ores",
           "Non-metallic Ores",
           "Agriculture biomass",
           "Bioenergy liquid",
           "Bioenergy solid",
           "Electricity",
           "Gaseos fossil fuel",
           "Heat",
           "Liquid fossil fuel",
           "Municipal waste",
           "Other fossil fuel",
           "Other renewable energy",
           "Solid fossil fuel",
           "Liquid fossil fuel",
           "Solid fossil fuel",
           "Bioenergy gaseos",
           "Bioenergy liquid",
           "Bioenergy solid",
           "Electricity",
           "Gaseos fossil fuel",
           "Geothermal",
           "Heat",
           "Liquid fossil fuel",
           "Other fossil fuel",
           "Solar thermal",
           "Solid fossil fuel",
           "Electricity",
           "Heat",
           "Bioenergy gaseos",
           "Bioenergy liquid",
           "Bioenergy solid",
           "Gaseos fossil fuel",
           "Geothermal",
           "Liquid fossil fuel",
           "Municipal waste",
           "Other fossil fuel",
           "Other renewable energy",
           "Renewable heat",
           "Solar thermal",
           "Solid fossil fuel",
           "Electricity",
           "Heat",
           "Renewable heat",
           "Agriculture biomass",
           "Gaseos fossil fuel",
           "Liquid fossil fuel",
           "Solid fossil fuel",
           "Bioenergy gaseos",
           "Bioenergy liquid",
           "Bioenergy solid",
           "Gaseos fossil fuel",
           "Geothermal",
           "Liquid fossil fuel",
           "Municipal waste",
           "Other fossil fuel",
           "Other renewable energy",
           "Solar thermal",
           "Solid fossil fuel",
           "Liquid fossil fuel",
           "Solid fossil fuel",
           "Bioenergy gaseos",
           "Bioenergy liquid",
           "Bioenergy solid",
           "Electricity",
           "Gaseos fossil fuel",
           "Liquid fossil fuel",
           "Solid fossil fuel",
           "Fisheries biomass",
           "Forestry biomass",
           "Metal Ores",
           "Non-metallic Ores",
           "Agriculture biomass",
           "Metal Ores",
           "Non-metallic Ores",
           "Agriculture biomass",
           "Fisheries biomass",
           "Forestry biomass",
           "Metal Ores",
           "Non-metallic Ores",
           "Metal Ores",
           "Non-metallic Ores",
           "Liquid fossil fuel",
           "Solid fossil fuel",
           "Fossil",
           "Metal Ores",
           "Non-metallic Ores",
           "Agriculture biomass",
           "Biomass",
           "Agriculture biomass",
           "Fisheries biomass",
           "Forestry biomass",
           "Gaseos fossil fuel",
           "Geothermal",
           "Heat",
           "Hydropower",
           "Liquid fossil fuel",
           "Metal Ores",
           "Municipal waste",
           "Non-metallic Ores",
           "Nuclear",
           "Other fossil fuel",
           "Other renewable energy",
           "Renewable heat",
           "Solar power",
           "Solar thermal",
           "Solid fossil fuel",
           "Windpower",
           "Agriculture biomass",
           "Electricity",
           "Fisheries biomass",
           "Forestry biomass",
           "Gaseos fossil fuel",
           "Heat",
           "Liquid fossil fuel",
           "Metal Ores",
           "Municipal waste",
           "Non-metallic Ores",
           "Other fossil fuel",
           "Other renewable energy",
           "Solid fossil fuel"
          ],
          "source": [
           2,
           2,
           2,
           2,
           2,
           2,
           2,
           2,
           2,
           2,
           2,
           2,
           2,
           2,
           2,
           2,
           2,
           2,
           2,
           2,
           2,
           2,
           2,
           2,
           2,
           2,
           2,
           2,
           2,
           2,
           2,
           2,
           2,
           2,
           2,
           2,
           2,
           2,
           2,
           2,
           2,
           2,
           2,
           14,
           14,
           14,
           14,
           14,
           14,
           14,
           14,
           14,
           14,
           4,
           4,
           4,
           4,
           4,
           4,
           4,
           4,
           4,
           4,
           4,
           4,
           4,
           4,
           4,
           4,
           4,
           4,
           4,
           4,
           4,
           4,
           4,
           4,
           3,
           3,
           4,
           4,
           4,
           4,
           4,
           4,
           4,
           4,
           4,
           4,
           4,
           4,
           3,
           3,
           3,
           4,
           4,
           4,
           4,
           4,
           4,
           4,
           4,
           4,
           4,
           4,
           4,
           4,
           4,
           4,
           4,
           4,
           4,
           4,
           4,
           4,
           4,
           4,
           4,
           5,
           6,
           7,
           7,
           5,
           7,
           7,
           5,
           5,
           6,
           7,
           7,
           7,
           7,
           11,
           11,
           8,
           8,
           8,
           10,
           11,
           0,
           0,
           0,
           0,
           0,
           0,
           0,
           0,
           0,
           0,
           0,
           0,
           0,
           0,
           0,
           0,
           0,
           0,
           0,
           1,
           1,
           1,
           1,
           1,
           1,
           1,
           1,
           1,
           1,
           1,
           1,
           1
          ],
          "target": [
           13,
           13,
           13,
           17,
           17,
           17,
           3,
           3,
           3,
           3,
           3,
           3,
           3,
           3,
           3,
           3,
           3,
           3,
           3,
           3,
           3,
           3,
           3,
           3,
           4,
           4,
           4,
           4,
           4,
           4,
           4,
           4,
           4,
           4,
           4,
           4,
           4,
           4,
           5,
           5,
           6,
           7,
           7,
           2,
           2,
           2,
           2,
           2,
           2,
           16,
           16,
           16,
           16,
           13,
           13,
           13,
           13,
           13,
           13,
           13,
           13,
           13,
           13,
           13,
           14,
           14,
           17,
           17,
           17,
           17,
           17,
           17,
           17,
           17,
           17,
           17,
           17,
           7,
           7,
           7,
           7,
           7,
           7,
           7,
           7,
           7,
           7,
           7,
           7,
           7,
           7,
           9,
           9,
           9,
           8,
           8,
           8,
           8,
           9,
           9,
           9,
           9,
           9,
           9,
           9,
           9,
           9,
           9,
           9,
           11,
           11,
           12,
           12,
           12,
           12,
           12,
           12,
           12,
           13,
           13,
           13,
           13,
           17,
           15,
           15,
           10,
           10,
           11,
           8,
           8,
           11,
           11,
           2,
           2,
           14,
           14,
           14,
           13,
           14,
           2,
           2,
           2,
           2,
           2,
           2,
           2,
           2,
           2,
           2,
           2,
           2,
           2,
           2,
           2,
           2,
           2,
           2,
           2,
           2,
           2,
           2,
           2,
           2,
           2,
           2,
           2,
           2,
           2,
           2,
           2,
           2
          ],
          "value": [
           4.91187765604064,
           9.999999999999999e-11,
           0,
           199.713771835333,
           0,
           35.657,
           8.523738648,
           1.08573776223776,
           53.176756139999995,
           1.4379145919999999e-8,
           72.781740216,
           2.533976964e-8,
           7.49772144e-9,
           1.2095581464e-7,
           16.4438765874126,
           34.75713888,
           8.5319322156e-7,
           18.60111504,
           1.7542692e-10,
           9.5835852e-10,
           3.4295334840000004e-8,
           9.303488280000001e-9,
           307.350504305085,
           9.47535642e-8,
           0.955318545,
           2.42080776,
           6.6377859020979,
           144.7502364,
           1.251706662e-7,
           254.528634816,
           1.88364132e-9,
           885.5739786293713,
           3.07352988,
           7.95847878,
           1.59600816e-9,
           2.424115332e-8,
           8.76548448e-9,
           177.41103742372886,
           573.524023828348,
           1.7707194721053499,
           212.9472339933735,
           397.29,
           3452.267,
           137.898,
           30.189,
           1.05343401398601,
           84.365,
           660.449,
           0.883308355932203,
           35.554,
           13.495,
           4.627,
           717.019,
           0,
           5.89265261538462,
           9.14229648,
           1.4195303532e-7,
           71.53926544800001,
           2.260872e-11,
           335.000995132867,
           0.1444446,
           0.05924322,
           2.7339803999999996e-10,
           30.2224867627119,
           1.05343401398601,
           0.883308355932203,
           0.5183258399999999,
           0.0366954965034965,
           0.08750412,
           1.4481680652000001e-7,
           15.794368056,
           1.25604e-12,
           4.037791788e-8,
           26.46809076923079,
           0.14486328,
           4.1868e-13,
           1.3708221864406802,
           3.2882038631999997e-7,
           6.507375768e-8,
           0.25991654399999997,
           0.121700223776224,
           41.002169759999994,
           64.93015043999999,
           1.507248e-11,
           24.0940092587413,
           2.32409268,
           7.36416252,
           3.475044e-11,
           8.3484792e-10,
           6.112728e-11,
           23.332362254237303,
           5.329365159600001e-7,
           1.2513047292e-7,
           2.34063054e-8,
           0.955318545,
           11.479284503999999,
           71.1000619300699,
           3.07978169491525,
           1.5359694480000001,
           0.313180447552448,
           94.38805656,
           97.68072355199999,
           1.8673128e-9,
           60.732510629370594,
           0.5304675600000001,
           0.3904191,
           1.63871352e-9,
           8.61141024e-9,
           19.1863658135593,
           12.3136813426573,
           0.732867406779661,
           0.106595928,
           12.573380055944101,
           0.00020934,
           2.030891076e-8,
           2.5427273759999998,
           285.20979331468527,
           0.0021288813559322,
           9.999999999999999e-11,
           9.43894276110001,
           122.05971400000001,
           102.923536,
           468.047462458136,
           5.585,
           11.503,
           136.1285225576488,
           9.999999999999999e-11,
           212.9472339933735,
           94.578,
           1389.013,
           302.712,
           2063.253,
           0.523886769230769,
           7.69129352542373,
           63.342,
           94.578,
           1389.013,
           17.4037190861945,
           242.316,
           756.2552127537999,
           1.7707194720053498,
           347.9901012899596,
           60.607028232,
           2.7223410959999998e-8,
           4.1788450799999995e-9,
           1.2095581464e-7,
           28.586865314685298,
           189.361392,
           36.23172984,
           2848.3669849999997,
           8.5319322156e-7,
           25.670108159999998,
           1.7542692e-10,
           2.562824016e-8,
           3.4295334840000004e-8,
           1.806855408e-8,
           248.83731320338998,
           9.47535642e-8,
           36.252936310821596,
           1.3954981212e-7,
           1.9999999999999998e-10,
           23.90706776319664,
           256.225963536,
           2.595816e-11,
           837.26718772028,
           245.62383,
           1.5981015600000001,
           82.59088899999999,
           0.8869735799999999,
           1.59600816e-9,
           200.523060457627
          ]
         },
         "node": {
          "color": "cornsilk",
          "label": [
           "Domestic Extraction",
           "Imports",
           "Domestic Input",
           "Electricity and heat",
           "Transformation",
           "Food industry",
           "Forestry industry",
           "Material industry",
           "Consumables",
           "Energy services",
           "Food",
           "Stocks",
           "Transportation",
           "Exports",
           "Waste treatment",
           "Emissions",
           "Landfill",
           "Losses"
          ],
          "pad": 20,
          "thickness": 20,
          "x": [
           0.001,
           0.001,
           0.16666666666666666,
           0.3333333333333333,
           0.3333333333333333,
           0.5,
           0.5,
           0.5,
           0.6666666666666666,
           0.6666666666666666,
           0.6666666666666666,
           0.6666666666666666,
           0.6666666666666666,
           0.8333333333333333,
           0.8333333333333333,
           0.999,
           0.999,
           0.999
          ],
          "y": [
           0.001,
           0.7294916036078607,
           0.001,
           0.001,
           0.25687013803155356,
           0.001,
           0.12284520469464646,
           0.1680622872702479,
           0.001,
           0.32219353424415986,
           0.37857160414260743,
           0.4065040825881642,
           0.9383531871725577,
           0.001,
           0.28350418418201756,
           0.001,
           0.011127739160899451,
           0.5130058368089216
          ]
         },
         "type": "sankey"
        }
       ],
       "layout": {
        "font": {
         "size": 10
        },
        "template": {
         "data": {
          "bar": [
           {
            "error_x": {
             "color": "#2a3f5f"
            },
            "error_y": {
             "color": "#2a3f5f"
            },
            "marker": {
             "line": {
              "color": "#E5ECF6",
              "width": 0.5
             },
             "pattern": {
              "fillmode": "overlay",
              "size": 10,
              "solidity": 0.2
             }
            },
            "type": "bar"
           }
          ],
          "barpolar": [
           {
            "marker": {
             "line": {
              "color": "#E5ECF6",
              "width": 0.5
             },
             "pattern": {
              "fillmode": "overlay",
              "size": 10,
              "solidity": 0.2
             }
            },
            "type": "barpolar"
           }
          ],
          "carpet": [
           {
            "aaxis": {
             "endlinecolor": "#2a3f5f",
             "gridcolor": "white",
             "linecolor": "white",
             "minorgridcolor": "white",
             "startlinecolor": "#2a3f5f"
            },
            "baxis": {
             "endlinecolor": "#2a3f5f",
             "gridcolor": "white",
             "linecolor": "white",
             "minorgridcolor": "white",
             "startlinecolor": "#2a3f5f"
            },
            "type": "carpet"
           }
          ],
          "choropleth": [
           {
            "colorbar": {
             "outlinewidth": 0,
             "ticks": ""
            },
            "type": "choropleth"
           }
          ],
          "contour": [
           {
            "colorbar": {
             "outlinewidth": 0,
             "ticks": ""
            },
            "colorscale": [
             [
              0,
              "#0d0887"
             ],
             [
              0.1111111111111111,
              "#46039f"
             ],
             [
              0.2222222222222222,
              "#7201a8"
             ],
             [
              0.3333333333333333,
              "#9c179e"
             ],
             [
              0.4444444444444444,
              "#bd3786"
             ],
             [
              0.5555555555555556,
              "#d8576b"
             ],
             [
              0.6666666666666666,
              "#ed7953"
             ],
             [
              0.7777777777777778,
              "#fb9f3a"
             ],
             [
              0.8888888888888888,
              "#fdca26"
             ],
             [
              1,
              "#f0f921"
             ]
            ],
            "type": "contour"
           }
          ],
          "contourcarpet": [
           {
            "colorbar": {
             "outlinewidth": 0,
             "ticks": ""
            },
            "type": "contourcarpet"
           }
          ],
          "heatmap": [
           {
            "colorbar": {
             "outlinewidth": 0,
             "ticks": ""
            },
            "colorscale": [
             [
              0,
              "#0d0887"
             ],
             [
              0.1111111111111111,
              "#46039f"
             ],
             [
              0.2222222222222222,
              "#7201a8"
             ],
             [
              0.3333333333333333,
              "#9c179e"
             ],
             [
              0.4444444444444444,
              "#bd3786"
             ],
             [
              0.5555555555555556,
              "#d8576b"
             ],
             [
              0.6666666666666666,
              "#ed7953"
             ],
             [
              0.7777777777777778,
              "#fb9f3a"
             ],
             [
              0.8888888888888888,
              "#fdca26"
             ],
             [
              1,
              "#f0f921"
             ]
            ],
            "type": "heatmap"
           }
          ],
          "heatmapgl": [
           {
            "colorbar": {
             "outlinewidth": 0,
             "ticks": ""
            },
            "colorscale": [
             [
              0,
              "#0d0887"
             ],
             [
              0.1111111111111111,
              "#46039f"
             ],
             [
              0.2222222222222222,
              "#7201a8"
             ],
             [
              0.3333333333333333,
              "#9c179e"
             ],
             [
              0.4444444444444444,
              "#bd3786"
             ],
             [
              0.5555555555555556,
              "#d8576b"
             ],
             [
              0.6666666666666666,
              "#ed7953"
             ],
             [
              0.7777777777777778,
              "#fb9f3a"
             ],
             [
              0.8888888888888888,
              "#fdca26"
             ],
             [
              1,
              "#f0f921"
             ]
            ],
            "type": "heatmapgl"
           }
          ],
          "histogram": [
           {
            "marker": {
             "pattern": {
              "fillmode": "overlay",
              "size": 10,
              "solidity": 0.2
             }
            },
            "type": "histogram"
           }
          ],
          "histogram2d": [
           {
            "colorbar": {
             "outlinewidth": 0,
             "ticks": ""
            },
            "colorscale": [
             [
              0,
              "#0d0887"
             ],
             [
              0.1111111111111111,
              "#46039f"
             ],
             [
              0.2222222222222222,
              "#7201a8"
             ],
             [
              0.3333333333333333,
              "#9c179e"
             ],
             [
              0.4444444444444444,
              "#bd3786"
             ],
             [
              0.5555555555555556,
              "#d8576b"
             ],
             [
              0.6666666666666666,
              "#ed7953"
             ],
             [
              0.7777777777777778,
              "#fb9f3a"
             ],
             [
              0.8888888888888888,
              "#fdca26"
             ],
             [
              1,
              "#f0f921"
             ]
            ],
            "type": "histogram2d"
           }
          ],
          "histogram2dcontour": [
           {
            "colorbar": {
             "outlinewidth": 0,
             "ticks": ""
            },
            "colorscale": [
             [
              0,
              "#0d0887"
             ],
             [
              0.1111111111111111,
              "#46039f"
             ],
             [
              0.2222222222222222,
              "#7201a8"
             ],
             [
              0.3333333333333333,
              "#9c179e"
             ],
             [
              0.4444444444444444,
              "#bd3786"
             ],
             [
              0.5555555555555556,
              "#d8576b"
             ],
             [
              0.6666666666666666,
              "#ed7953"
             ],
             [
              0.7777777777777778,
              "#fb9f3a"
             ],
             [
              0.8888888888888888,
              "#fdca26"
             ],
             [
              1,
              "#f0f921"
             ]
            ],
            "type": "histogram2dcontour"
           }
          ],
          "mesh3d": [
           {
            "colorbar": {
             "outlinewidth": 0,
             "ticks": ""
            },
            "type": "mesh3d"
           }
          ],
          "parcoords": [
           {
            "line": {
             "colorbar": {
              "outlinewidth": 0,
              "ticks": ""
             }
            },
            "type": "parcoords"
           }
          ],
          "pie": [
           {
            "automargin": true,
            "type": "pie"
           }
          ],
          "scatter": [
           {
            "fillpattern": {
             "fillmode": "overlay",
             "size": 10,
             "solidity": 0.2
            },
            "type": "scatter"
           }
          ],
          "scatter3d": [
           {
            "line": {
             "colorbar": {
              "outlinewidth": 0,
              "ticks": ""
             }
            },
            "marker": {
             "colorbar": {
              "outlinewidth": 0,
              "ticks": ""
             }
            },
            "type": "scatter3d"
           }
          ],
          "scattercarpet": [
           {
            "marker": {
             "colorbar": {
              "outlinewidth": 0,
              "ticks": ""
             }
            },
            "type": "scattercarpet"
           }
          ],
          "scattergeo": [
           {
            "marker": {
             "colorbar": {
              "outlinewidth": 0,
              "ticks": ""
             }
            },
            "type": "scattergeo"
           }
          ],
          "scattergl": [
           {
            "marker": {
             "colorbar": {
              "outlinewidth": 0,
              "ticks": ""
             }
            },
            "type": "scattergl"
           }
          ],
          "scattermapbox": [
           {
            "marker": {
             "colorbar": {
              "outlinewidth": 0,
              "ticks": ""
             }
            },
            "type": "scattermapbox"
           }
          ],
          "scatterpolar": [
           {
            "marker": {
             "colorbar": {
              "outlinewidth": 0,
              "ticks": ""
             }
            },
            "type": "scatterpolar"
           }
          ],
          "scatterpolargl": [
           {
            "marker": {
             "colorbar": {
              "outlinewidth": 0,
              "ticks": ""
             }
            },
            "type": "scatterpolargl"
           }
          ],
          "scatterternary": [
           {
            "marker": {
             "colorbar": {
              "outlinewidth": 0,
              "ticks": ""
             }
            },
            "type": "scatterternary"
           }
          ],
          "surface": [
           {
            "colorbar": {
             "outlinewidth": 0,
             "ticks": ""
            },
            "colorscale": [
             [
              0,
              "#0d0887"
             ],
             [
              0.1111111111111111,
              "#46039f"
             ],
             [
              0.2222222222222222,
              "#7201a8"
             ],
             [
              0.3333333333333333,
              "#9c179e"
             ],
             [
              0.4444444444444444,
              "#bd3786"
             ],
             [
              0.5555555555555556,
              "#d8576b"
             ],
             [
              0.6666666666666666,
              "#ed7953"
             ],
             [
              0.7777777777777778,
              "#fb9f3a"
             ],
             [
              0.8888888888888888,
              "#fdca26"
             ],
             [
              1,
              "#f0f921"
             ]
            ],
            "type": "surface"
           }
          ],
          "table": [
           {
            "cells": {
             "fill": {
              "color": "#EBF0F8"
             },
             "line": {
              "color": "white"
             }
            },
            "header": {
             "fill": {
              "color": "#C8D4E3"
             },
             "line": {
              "color": "white"
             }
            },
            "type": "table"
           }
          ]
         },
         "layout": {
          "annotationdefaults": {
           "arrowcolor": "#2a3f5f",
           "arrowhead": 0,
           "arrowwidth": 1
          },
          "autotypenumbers": "strict",
          "coloraxis": {
           "colorbar": {
            "outlinewidth": 0,
            "ticks": ""
           }
          },
          "colorscale": {
           "diverging": [
            [
             0,
             "#8e0152"
            ],
            [
             0.1,
             "#c51b7d"
            ],
            [
             0.2,
             "#de77ae"
            ],
            [
             0.3,
             "#f1b6da"
            ],
            [
             0.4,
             "#fde0ef"
            ],
            [
             0.5,
             "#f7f7f7"
            ],
            [
             0.6,
             "#e6f5d0"
            ],
            [
             0.7,
             "#b8e186"
            ],
            [
             0.8,
             "#7fbc41"
            ],
            [
             0.9,
             "#4d9221"
            ],
            [
             1,
             "#276419"
            ]
           ],
           "sequential": [
            [
             0,
             "#0d0887"
            ],
            [
             0.1111111111111111,
             "#46039f"
            ],
            [
             0.2222222222222222,
             "#7201a8"
            ],
            [
             0.3333333333333333,
             "#9c179e"
            ],
            [
             0.4444444444444444,
             "#bd3786"
            ],
            [
             0.5555555555555556,
             "#d8576b"
            ],
            [
             0.6666666666666666,
             "#ed7953"
            ],
            [
             0.7777777777777778,
             "#fb9f3a"
            ],
            [
             0.8888888888888888,
             "#fdca26"
            ],
            [
             1,
             "#f0f921"
            ]
           ],
           "sequentialminus": [
            [
             0,
             "#0d0887"
            ],
            [
             0.1111111111111111,
             "#46039f"
            ],
            [
             0.2222222222222222,
             "#7201a8"
            ],
            [
             0.3333333333333333,
             "#9c179e"
            ],
            [
             0.4444444444444444,
             "#bd3786"
            ],
            [
             0.5555555555555556,
             "#d8576b"
            ],
            [
             0.6666666666666666,
             "#ed7953"
            ],
            [
             0.7777777777777778,
             "#fb9f3a"
            ],
            [
             0.8888888888888888,
             "#fdca26"
            ],
            [
             1,
             "#f0f921"
            ]
           ]
          },
          "colorway": [
           "#636efa",
           "#EF553B",
           "#00cc96",
           "#ab63fa",
           "#FFA15A",
           "#19d3f3",
           "#FF6692",
           "#B6E880",
           "#FF97FF",
           "#FECB52"
          ],
          "font": {
           "color": "#2a3f5f"
          },
          "geo": {
           "bgcolor": "white",
           "lakecolor": "white",
           "landcolor": "#E5ECF6",
           "showlakes": true,
           "showland": true,
           "subunitcolor": "white"
          },
          "hoverlabel": {
           "align": "left"
          },
          "hovermode": "closest",
          "mapbox": {
           "style": "light"
          },
          "paper_bgcolor": "white",
          "plot_bgcolor": "#E5ECF6",
          "polar": {
           "angularaxis": {
            "gridcolor": "white",
            "linecolor": "white",
            "ticks": ""
           },
           "bgcolor": "#E5ECF6",
           "radialaxis": {
            "gridcolor": "white",
            "linecolor": "white",
            "ticks": ""
           }
          },
          "scene": {
           "xaxis": {
            "backgroundcolor": "#E5ECF6",
            "gridcolor": "white",
            "gridwidth": 2,
            "linecolor": "white",
            "showbackground": true,
            "ticks": "",
            "zerolinecolor": "white"
           },
           "yaxis": {
            "backgroundcolor": "#E5ECF6",
            "gridcolor": "white",
            "gridwidth": 2,
            "linecolor": "white",
            "showbackground": true,
            "ticks": "",
            "zerolinecolor": "white"
           },
           "zaxis": {
            "backgroundcolor": "#E5ECF6",
            "gridcolor": "white",
            "gridwidth": 2,
            "linecolor": "white",
            "showbackground": true,
            "ticks": "",
            "zerolinecolor": "white"
           }
          },
          "shapedefaults": {
           "line": {
            "color": "#2a3f5f"
           }
          },
          "ternary": {
           "aaxis": {
            "gridcolor": "white",
            "linecolor": "white",
            "ticks": ""
           },
           "baxis": {
            "gridcolor": "white",
            "linecolor": "white",
            "ticks": ""
           },
           "bgcolor": "#E5ECF6",
           "caxis": {
            "gridcolor": "white",
            "linecolor": "white",
            "ticks": ""
           }
          },
          "title": {
           "x": 0.05
          },
          "xaxis": {
           "automargin": true,
           "gridcolor": "white",
           "linecolor": "white",
           "ticks": "",
           "title": {
            "standoff": 15
           },
           "zerolinecolor": "white",
           "zerolinewidth": 2
          },
          "yaxis": {
           "automargin": true,
           "gridcolor": "white",
           "linecolor": "white",
           "ticks": "",
           "title": {
            "standoff": 15
           },
           "zerolinecolor": "white",
           "zerolinewidth": 2
          }
         }
        },
        "title": {
         "text": "EU27 material flows in 2015 for kt along Sourcing | Availability | Preprocessing | Processing | Services | Backflows | Outflows"
        }
       }
      }
     },
     "metadata": {},
     "output_type": "display_data"
    }
   ],
   "source": [
    "# optional, if desiring to visualize statically without interactivity\n",
    "# need to set year and unit to filter dataframe\n",
    "\n",
    "# filter payload\n",
    "unit = 'kt'\n",
    "year = 2015\n",
    "\n",
    "# filtering df\n",
    "filter_list = [i and j for i, j in zip(\n",
    "    df['Value.type'] == unit, df['Value.info'] == year)]\n",
    "temp_df = df[filter_list]\n",
    "\n",
    "# creating ordered lists of nodes' indices and their x-levels\n",
    "elements_positions, unique_sources_targets = calc_node_x(\n",
    "    temp_df, 'Source', 'Target')\n",
    "\n",
    "# redeclare node_dict (this is done, because filtering the same node_dict will not work with Plotly as no breaks in numeric/integer node sequences can be handled. An alternative may be to manipulate the broken sequence, but manage to access the node_dict keys anyway)\n",
    "node_dict = dict()\n",
    "for i, e in zip(range(len(unique_sources_targets)), elements_positions):\n",
    "    node_dict[str(unique_sources_targets[i])] = {\n",
    "        'Source_level_str': e, 'Source_level_int': x_lvl_dict[e][\"Int\"], 'Node_index': i}\n",
    "\n",
    "# save each node's aggregated values in node_dict\n",
    "aggregate_node_values(temp_df, node_dict)\n",
    "# save each x-level's aggregated values in x_lvl_dict\n",
    "aggregate_values_by_x_level(node_dict, x_lvl_dict)\n",
    "\n",
    "payload_x, payload_y = nodes_xypositions(\n",
    "    elements_positions, node_dict, x_lvl_dict)\n",
    "\n",
    "# sankey source and target payload for link dict\n",
    "source, target = calculate_link_sources_targets_alt(temp_df, node_dict)\n",
    "\n",
    "# static sankey visualization without interactivity\n",
    "fig = go.Figure(data=[go.Sankey(\n",
    "    arrangement=\"snap\",\n",
    "    node=dict(\n",
    "        label=unique_sources_targets,\n",
    "        x=[.001 if x == 0 else .999 if x == 1 else x for x in payload_x],\n",
    "        y=[.001 if y == 0 else .999 if y == 1 else y for y in payload_y],\n",
    "        pad=20,\n",
    "        thickness=20,\n",
    "        color=\"cornsilk\"\n",
    "    ),\n",
    "    link=dict(\n",
    "        source=source,\n",
    "        target=target,\n",
    "        value=temp_df['Value']/1000,\n",
    "        label=temp_df['Label'],\n",
    "        color=temp_df['Colour']\n",
    "    ))])\n",
    "\n",
    "# define laylout level string\n",
    "keys_payload = x_level_strings(x_lvl_dict)\n",
    "\n",
    "fig.update_layout(\n",
    "    title_text=f\"EU27 material flows in {year} for {unit} along {keys_payload}\", font_size=10)\n",
    "fig.show()\n"
   ]
  },
  {
   "cell_type": "code",
   "execution_count": 8,
   "metadata": {
    "scrolled": true
   },
   "outputs": [
    {
     "name": "stdout",
     "output_type": "stream",
     "text": [
      "Dash app running on http://127.0.0.1:8070/\n"
     ]
    }
   ],
   "source": [
    "#essential\n",
    "#dynamic sankey visualization with radio buttons and slider filters\n",
    "app = JupyterDash(__name__)\n",
    "\n",
    "app.layout = html.Div([\n",
    "    html.Div([\n",
    "        html.Div(children=[\n",
    "            html.Div(id='my-output')\n",
    "        ], style={'margin': 'auto', 'text-align': 'center', 'fontFamily': 'Arial'}),\n",
    "        html.Br(),\n",
    "        html.Br(),\n",
    "        html.Div([\n",
    "            dcc.RadioItems(\n",
    "                df['Value.type'].unique(),\n",
    "                value = df['Value.type'].unique()[0],\n",
    "                id='xaxis-column',\n",
    "                inline=True\n",
    "            )], style={'margin': 'auto', 'fontFamily': 'Arial', 'width': '48%','text-align': 'center'})\n",
    "    ]),\n",
    "\n",
    "    html.Div([\n",
    "        dcc.Graph(id='indicator-graphic')\n",
    "    ], style={'background-size': '16.7%', 'background-image': 'linear-gradient(to right, #AAA 1px, transparent 1px)'}\n",
    "    ),\n",
    "    \n",
    "    html.Div([\n",
    "        dcc.Slider(\n",
    "            df['Value.info'].min(),\n",
    "            df['Value.info'].max(),\n",
    "            step=None,\n",
    "            id='year--slider',\n",
    "            value=df['Value.info'].max(),\n",
    "            marks={str(year): str(year) for year in df['Value.info'].unique()},\n",
    "        )], style={'fontFamily': 'Arial', 'width': '70%', 'margin': 'auto'})\n",
    "    \n",
    "])\n",
    "\n",
    "@app.callback(\n",
    "    Output('indicator-graphic', 'figure'),\n",
    "    Output('my-output', 'children'),\n",
    "    Input('xaxis-column', 'value'),\n",
    "    Input('year--slider', 'value'))\n",
    "\n",
    "def update_graph_and_title(xaxis_column_name, year_value):\n",
    "    \n",
    "    filter_list = [i and j for i, j in zip(df['Value.type'] == xaxis_column_name, df['Value.info'] == year_value)]\n",
    "    temp_df = df[filter_list]\n",
    "    \n",
    "    #creating ordered lists of nodes' indices and their x-levels\n",
    "    elements_positions, unique_sources_targets = calc_node_x(temp_df, 'Source', 'Target')\n",
    "\n",
    "    #redeclare node_dict (this is done, because filtering the same node_dict will not work with Plotly as no breaks in numeric/integer node sequences can be handled. An alternative may be to manipulate the broken sequence, but manage to access the node_dict keys anyway)\n",
    "    node_dict = dict()\n",
    "    for i,e in zip(range(len(unique_sources_targets)), elements_positions):\n",
    "        node_dict[str(unique_sources_targets[i])] = {'Source_level_str': e, 'Source_level_int': x_lvl_dict[e][\"Int\"], 'Node_index': i}\n",
    "\n",
    "    #save each node's aggregated values in node_dict\n",
    "    aggregate_node_values(temp_df, node_dict)\n",
    "    #save each x-level's aggregated values in x_lvl_dict\n",
    "    aggregate_values_by_x_level(node_dict, x_lvl_dict)\n",
    "\n",
    "    payload_x, payload_y = nodes_xypositions(elements_positions, node_dict, x_lvl_dict)\n",
    "\n",
    "    #sankey source and target payload for link dict\n",
    "    source, target = calculate_link_sources_targets_alt(temp_df, node_dict)\n",
    "    \n",
    "    #define laylout level string\n",
    "    keys_payload = x_level_strings(x_lvl_dict)\n",
    "    \n",
    "    payload_title = f\"EU27 material flows in {year_value} for {xaxis_column_name} along {keys_payload}\"\n",
    "\n",
    "    new_fig = go.Figure(data=[go.Sankey(\n",
    "        domain = dict(\n",
    "          x =  [0,1],\n",
    "          y =  [0,1]\n",
    "        ),\n",
    "        arrangement= \"snap\",\n",
    "        node = dict(\n",
    "          label = unique_sources_targets,\n",
    "          x = [.001 if x==0 else .999 if x == 1 else x for x in payload_x],\n",
    "          y = [.001 if y==0 else .999 if y == 1 else y for y in payload_y],\n",
    "          pad = 20,\n",
    "          thickness = 20,\n",
    "          color = \"cornsilk\"\n",
    "        ),\n",
    "        link = dict(\n",
    "          source = source,\n",
    "          target = target,\n",
    "          value = temp_df['Value']/1000,\n",
    "          label = temp_df['Label'],\n",
    "          color = temp_df['Colour']\n",
    "      ))])\n",
    "    \n",
    "    new_fig.update_layout(height=600)\n",
    "\n",
    "    return new_fig, payload_title\n",
    "if __name__ == '__main__':\n",
    "    app.run_server(port = 8070, debug=True)"
   ]
  },
  {
   "cell_type": "code",
   "execution_count": null,
   "metadata": {},
   "outputs": [],
   "source": [
    "'height': '100vh',  "
   ]
  }
 ],
 "metadata": {
  "kernelspec": {
   "display_name": "Python 3.9.7 ('base')",
   "language": "python",
   "name": "python3"
  },
  "language_info": {
   "codemirror_mode": {
    "name": "ipython",
    "version": 3
   },
   "file_extension": ".py",
   "mimetype": "text/x-python",
   "name": "python",
   "nbconvert_exporter": "python",
   "pygments_lexer": "ipython3",
   "version": "3.9.7"
  },
  "vscode": {
   "interpreter": {
    "hash": "893de76de5fc15fa14b2d6916a66c3f3369145de0c3abdb3c07d4f9223b5a3d6"
   }
  }
 },
 "nbformat": 4,
 "nbformat_minor": 4
}
