{
 "cells": [
  {
   "cell_type": "code",
   "execution_count": 1,
   "metadata": {},
   "outputs": [],
   "source": [
    "# essential\n",
    "#functions.py holds all self-written f, so that this is merely execution/testing\n",
    "\n",
    "from functions import *\n",
    "\n",
    "from jupyter_dash import JupyterDash\n",
    "from dash import Dash, dcc, html, Input, Output\n",
    "import plotly.graph_objects as go\n",
    "import pandas as pd\n",
    "import numpy as np\n",
    "import re"
   ]
  },
  {
   "cell_type": "code",
   "execution_count": 2,
   "metadata": {},
   "outputs": [],
   "source": [
    "# essential\n",
    "#load and preprocess data\n",
    "\n",
    "df = load_data('data', 'test_flow.csv', wide_boolean=False, idx_boolean=False)"
   ]
  },
  {
   "cell_type": "code",
   "execution_count": 12,
   "metadata": {
    "scrolled": false
   },
   "outputs": [
    {
     "data": {
      "application/vnd.plotly.v1+json": {
       "config": {
        "plotlyServerURL": "https://plot.ly"
       },
       "data": [
        {
         "arrangement": "freeform",
         "link": {
          "color": [
           "#66c2a5",
           "#e78ac3",
           "#8da0cb",
           "#a6d854",
           "#8da0cb",
           "#e78ac3",
           "#8da0cb",
           "#a6d854",
           "#e78ac3",
           "#e78ac3",
           "#a6d854",
           "#8da0cb",
           "#66c2a5",
           "#e78ac3",
           "#8da0cb",
           "#a6d854",
           "#8da0cb",
           "#8da0cb",
           "#a6d854",
           "#e78ac3",
           "#a6d854",
           "#8da0cb",
           "#66c2a5",
           "#e78ac3",
           "#8da0cb",
           "#8da0cb",
           "#8da0cb",
           "#a6d854",
           "#e78ac3",
           "#a6d854",
           "#8da0cb",
           "#8da0cb",
           "#8da0cb",
           "#66c2a5",
           "#8da0cb",
           "#8da0cb",
           "#a6d854",
           "#e78ac3",
           "#8da0cb",
           "#66c2a5",
           "#e78ac3",
           "#8da0cb",
           "#a6d854",
           "#8da0cb",
           "#8da0cb",
           "#a6d854",
           "#a6d854",
           "#8da0cb",
           "#66c2a5",
           "#e78ac3",
           "#8da0cb",
           "#a6d854",
           "#8da0cb",
           "#8da0cb",
           "#a6d854",
           "#e78ac3",
           "#8da0cb",
           "#8da0cb",
           "#8da0cb",
           "#8da0cb",
           "#8da0cb",
           "#e78ac3",
           "#a6d854",
           "#a6d854",
           "#8da0cb",
           "#8da0cb",
           "#8da0cb",
           "#66c2a5",
           "#8da0cb",
           "#8da0cb",
           "#8da0cb",
           "#a6d854",
           "#e78ac3",
           "#8da0cb",
           "#66c2a5",
           "#e78ac3",
           "#8da0cb",
           "#8da0cb",
           "#8da0cb",
           "#66c2a5",
           "#8da0cb",
           "#a6d854",
           "#8da0cb",
           "#e78ac3",
           "#8da0cb",
           "#a6d854",
           "#e78ac3",
           "#e78ac3",
           "#a6d854",
           "#8da0cb",
           "#66c2a5",
           "#e78ac3",
           "#8da0cb",
           "#a6d854",
           "#8da0cb",
           "#8da0cb",
           "#a6d854",
           "#e78ac3",
           "#8da0cb"
          ],
          "label": [
           "Bioenergy",
           "Electricity",
           "Gaseos fossil fuel",
           "Heat",
           "Liquid fossil fuel",
           "Nuclear",
           "Other fossil fuel",
           "Other renewable energy",
           "Other renewable energy",
           "Renewable electricity",
           "Renewable heat",
           "Solid fossil fuel",
           "Bioenergy",
           "Electricity",
           "Gaseos fossil fuel",
           "Heat",
           "Liquid fossil fuel",
           "Other fossil fuel",
           "Other renewable energy",
           "Other renewable energy",
           "Renewable heat",
           "Solid fossil fuel",
           "Bioenergy",
           "Electricity",
           "Gaseos fossil fuel",
           "Liquid fossil fuel",
           "Other fossil fuel",
           "Other renewable energy",
           "Other renewable energy",
           "Renewable heat",
           "Solid fossil fuel",
           "Liquid fossil fuel",
           "Solid fossil fuel",
           "Bioenergy",
           "Liquid fossil fuel",
           "Other fossil fuel",
           "Other renewable energy",
           "Other renewable energy",
           "Solid fossil fuel",
           "Bioenergy",
           "Electricity",
           "Gaseos fossil fuel",
           "Heat",
           "Liquid fossil fuel",
           "Other fossil fuel",
           "Other renewable energy",
           "Renewable heat",
           "Solid fossil fuel",
           "Bioenergy",
           "Electricity",
           "Gaseos fossil fuel",
           "Heat",
           "Liquid fossil fuel",
           "Other fossil fuel",
           "Other renewable energy",
           "Other renewable energy",
           "Solid fossil fuel",
           "Gaseos fossil fuel",
           "Liquid fossil fuel",
           "Other fossil fuel",
           "Solid fossil fuel",
           "Electricity",
           "Heat",
           "Renewable heat",
           "Gaseos fossil fuel",
           "Liquid fossil fuel",
           "Solid fossil fuel",
           "Bioenergy",
           "Gaseos fossil fuel",
           "Liquid fossil fuel",
           "Other fossil fuel",
           "Other renewable energy",
           "Other renewable energy",
           "Solid fossil fuel",
           "Bioenergy",
           "Electricity",
           "Gaseos fossil fuel",
           "Liquid fossil fuel",
           "Solid fossil fuel",
           "Bioenergy",
           "Gaseos fossil fuel",
           "Heat",
           "Liquid fossil fuel",
           "Nuclear",
           "Other fossil fuel",
           "Other renewable energy",
           "Other renewable energy",
           "Renewable electricity",
           "Renewable heat",
           "Solid fossil fuel",
           "Bioenergy",
           "Electricity",
           "Gaseos fossil fuel",
           "Heat",
           "Liquid fossil fuel",
           "Other fossil fuel",
           "Other renewable energy",
           "Other renewable energy",
           "Solid fossil fuel"
          ],
          "source": [
           2,
           2,
           2,
           2,
           2,
           2,
           2,
           2,
           2,
           2,
           2,
           2,
           2,
           2,
           2,
           2,
           2,
           2,
           2,
           2,
           2,
           2,
           2,
           2,
           2,
           2,
           2,
           2,
           2,
           2,
           2,
           11,
           11,
           12,
           12,
           12,
           12,
           12,
           12,
           5,
           5,
           5,
           5,
           5,
           5,
           5,
           5,
           5,
           5,
           5,
           5,
           5,
           5,
           5,
           5,
           5,
           5,
           5,
           5,
           5,
           5,
           3,
           3,
           3,
           5,
           5,
           5,
           5,
           5,
           5,
           5,
           5,
           5,
           5,
           5,
           5,
           5,
           5,
           5,
           0,
           0,
           0,
           0,
           0,
           0,
           0,
           0,
           0,
           0,
           0,
           1,
           1,
           1,
           1,
           1,
           1,
           1,
           1,
           1
          ],
          "target": [
           3,
           3,
           3,
           3,
           3,
           3,
           3,
           3,
           3,
           3,
           3,
           3,
           4,
           4,
           4,
           4,
           4,
           4,
           4,
           4,
           4,
           4,
           5,
           5,
           5,
           5,
           5,
           5,
           5,
           5,
           5,
           2,
           2,
           2,
           2,
           2,
           2,
           2,
           2,
           9,
           9,
           9,
           9,
           9,
           9,
           9,
           9,
           9,
           10,
           10,
           10,
           10,
           10,
           10,
           10,
           10,
           10,
           12,
           12,
           12,
           12,
           7,
           7,
           7,
           6,
           6,
           6,
           7,
           7,
           7,
           7,
           7,
           7,
           7,
           8,
           8,
           8,
           8,
           8,
           2,
           2,
           2,
           2,
           2,
           2,
           2,
           2,
           2,
           2,
           2,
           2,
           2,
           2,
           2,
           2,
           2,
           2,
           2,
           2
          ],
          "value": [
           1595.840688,
           147.7354248,
           4493.1314088,
           80.6000868,
           659.2284072,
           8160.0271452,
           399.0062268,
           362.21262839999997,
           1.8798732,
           2551.3396236000003,
           368.21649959999996,
           6584.7185244,
           882.8119008000001,
           3391.8439104,
           3412.4220324,
           659.2953960000001,
           953.585568,
           166.2033996,
           28.943348399999998,
           0.355878,
           11.2666788,
           558.874998,
           3425.3173764,
           1171.8601992,
           13286.9814588,
           39066.9428772,
           178.5209652,
           37.7984304,
           15.407423999999999,
           556.9490699999999,
           4101.9419376,
           46.046426399999994,
           20.0589588,
           20.682792000000003,
           409.0545468,
           0.020934,
           0.041868,
           0.020934,
           75.07351080000001,
           29.5043796,
           1448.9216892,
           822.3168276000001,
           421.150212,
           1093.6842696,
           1.9426751999999998,
           0.334944,
           0.0167472,
           29.487632400000003,
           492.19602119999996,
           1336.0664952,
           3618.3456036000002,
           0.20934,
           15084.642654000001,
           1.528182,
           1.7249616,
           2.3320475999999997,
           607.6763388,
           44.170739999999995,
           69.4925064,
           0.1339776,
           6.7533084,
           5420.8425528,
           1328.3167283999999,
           544.6943064,
           621.5848884000001,
           3275.0740584,
           73.08478079999999,
           1996.6095576,
           5089.57875,
           2524.8874212,
           8.7127308,
           6.7951764,
           15.646071599999999,
           460.673604,
           579.3651971999999,
           209.8298556,
           139.97309760000002,
           12760.554160799998,
           0.0586152,
           4941.15669,
           2788.8232932,
           47.4029496,
           1092.8008548,
           8160.0271452,
           556.7732244,
           380.62198799999993,
           1.8798732,
           2551.3396236000003,
           928.9169424,
           5395.0518648,
           643.2306444,
           1319.595624,
           14728.4673912,
           0.25958159999999997,
           36754.987730400004,
           20.7288468,
           19.351389599999997,
           15.38649,
           4570.9137792
          ]
         },
         "node": {
          "color": "cornsilk",
          "label": [
           "Domestic Extraction",
           "Imports",
           "Domestic Input",
           "Electricity and heat generation",
           "Food industry (incl. Livestock)",
           "Forestry industry",
           "Material industry",
           "Materials",
           "Refinery, direct carry over and other",
           "Animal-based food",
           "Consumables",
           "Plant-based food",
           "Residential housing and other services",
           "Transport",
           "Emissions",
           "Energy industry (consumption and losses)",
           "Exports",
           "Landfill",
           "Losses",
           "Recovery",
           "Stocks",
           "Waste_treatment"
          ],
          "pad": 8,
          "thickness": 5,
          "x": [
           0.001,
           0.001,
           0.2,
           0.4,
           0.4,
           0.4,
           0.6,
           0.6,
           0.6,
           0.8,
           0.8,
           0.8,
           0.8
          ],
          "y": [
           0.31612713738634884,
           0.999,
           0.999,
           0.26105855270078665,
           0.3644957415102876,
           0.999,
           0.11323915577228799,
           0.6094913573299285,
           0.999,
           0.15050452557202465,
           0.9776631005085955,
           0.9802490714728046,
           0.999
          ]
         },
         "type": "sankey"
        }
       ],
       "layout": {
        "font": {
         "size": 10
        },
        "template": {
         "data": {
          "bar": [
           {
            "error_x": {
             "color": "#2a3f5f"
            },
            "error_y": {
             "color": "#2a3f5f"
            },
            "marker": {
             "line": {
              "color": "#E5ECF6",
              "width": 0.5
             },
             "pattern": {
              "fillmode": "overlay",
              "size": 10,
              "solidity": 0.2
             }
            },
            "type": "bar"
           }
          ],
          "barpolar": [
           {
            "marker": {
             "line": {
              "color": "#E5ECF6",
              "width": 0.5
             },
             "pattern": {
              "fillmode": "overlay",
              "size": 10,
              "solidity": 0.2
             }
            },
            "type": "barpolar"
           }
          ],
          "carpet": [
           {
            "aaxis": {
             "endlinecolor": "#2a3f5f",
             "gridcolor": "white",
             "linecolor": "white",
             "minorgridcolor": "white",
             "startlinecolor": "#2a3f5f"
            },
            "baxis": {
             "endlinecolor": "#2a3f5f",
             "gridcolor": "white",
             "linecolor": "white",
             "minorgridcolor": "white",
             "startlinecolor": "#2a3f5f"
            },
            "type": "carpet"
           }
          ],
          "choropleth": [
           {
            "colorbar": {
             "outlinewidth": 0,
             "ticks": ""
            },
            "type": "choropleth"
           }
          ],
          "contour": [
           {
            "colorbar": {
             "outlinewidth": 0,
             "ticks": ""
            },
            "colorscale": [
             [
              0,
              "#0d0887"
             ],
             [
              0.1111111111111111,
              "#46039f"
             ],
             [
              0.2222222222222222,
              "#7201a8"
             ],
             [
              0.3333333333333333,
              "#9c179e"
             ],
             [
              0.4444444444444444,
              "#bd3786"
             ],
             [
              0.5555555555555556,
              "#d8576b"
             ],
             [
              0.6666666666666666,
              "#ed7953"
             ],
             [
              0.7777777777777778,
              "#fb9f3a"
             ],
             [
              0.8888888888888888,
              "#fdca26"
             ],
             [
              1,
              "#f0f921"
             ]
            ],
            "type": "contour"
           }
          ],
          "contourcarpet": [
           {
            "colorbar": {
             "outlinewidth": 0,
             "ticks": ""
            },
            "type": "contourcarpet"
           }
          ],
          "heatmap": [
           {
            "colorbar": {
             "outlinewidth": 0,
             "ticks": ""
            },
            "colorscale": [
             [
              0,
              "#0d0887"
             ],
             [
              0.1111111111111111,
              "#46039f"
             ],
             [
              0.2222222222222222,
              "#7201a8"
             ],
             [
              0.3333333333333333,
              "#9c179e"
             ],
             [
              0.4444444444444444,
              "#bd3786"
             ],
             [
              0.5555555555555556,
              "#d8576b"
             ],
             [
              0.6666666666666666,
              "#ed7953"
             ],
             [
              0.7777777777777778,
              "#fb9f3a"
             ],
             [
              0.8888888888888888,
              "#fdca26"
             ],
             [
              1,
              "#f0f921"
             ]
            ],
            "type": "heatmap"
           }
          ],
          "heatmapgl": [
           {
            "colorbar": {
             "outlinewidth": 0,
             "ticks": ""
            },
            "colorscale": [
             [
              0,
              "#0d0887"
             ],
             [
              0.1111111111111111,
              "#46039f"
             ],
             [
              0.2222222222222222,
              "#7201a8"
             ],
             [
              0.3333333333333333,
              "#9c179e"
             ],
             [
              0.4444444444444444,
              "#bd3786"
             ],
             [
              0.5555555555555556,
              "#d8576b"
             ],
             [
              0.6666666666666666,
              "#ed7953"
             ],
             [
              0.7777777777777778,
              "#fb9f3a"
             ],
             [
              0.8888888888888888,
              "#fdca26"
             ],
             [
              1,
              "#f0f921"
             ]
            ],
            "type": "heatmapgl"
           }
          ],
          "histogram": [
           {
            "marker": {
             "pattern": {
              "fillmode": "overlay",
              "size": 10,
              "solidity": 0.2
             }
            },
            "type": "histogram"
           }
          ],
          "histogram2d": [
           {
            "colorbar": {
             "outlinewidth": 0,
             "ticks": ""
            },
            "colorscale": [
             [
              0,
              "#0d0887"
             ],
             [
              0.1111111111111111,
              "#46039f"
             ],
             [
              0.2222222222222222,
              "#7201a8"
             ],
             [
              0.3333333333333333,
              "#9c179e"
             ],
             [
              0.4444444444444444,
              "#bd3786"
             ],
             [
              0.5555555555555556,
              "#d8576b"
             ],
             [
              0.6666666666666666,
              "#ed7953"
             ],
             [
              0.7777777777777778,
              "#fb9f3a"
             ],
             [
              0.8888888888888888,
              "#fdca26"
             ],
             [
              1,
              "#f0f921"
             ]
            ],
            "type": "histogram2d"
           }
          ],
          "histogram2dcontour": [
           {
            "colorbar": {
             "outlinewidth": 0,
             "ticks": ""
            },
            "colorscale": [
             [
              0,
              "#0d0887"
             ],
             [
              0.1111111111111111,
              "#46039f"
             ],
             [
              0.2222222222222222,
              "#7201a8"
             ],
             [
              0.3333333333333333,
              "#9c179e"
             ],
             [
              0.4444444444444444,
              "#bd3786"
             ],
             [
              0.5555555555555556,
              "#d8576b"
             ],
             [
              0.6666666666666666,
              "#ed7953"
             ],
             [
              0.7777777777777778,
              "#fb9f3a"
             ],
             [
              0.8888888888888888,
              "#fdca26"
             ],
             [
              1,
              "#f0f921"
             ]
            ],
            "type": "histogram2dcontour"
           }
          ],
          "mesh3d": [
           {
            "colorbar": {
             "outlinewidth": 0,
             "ticks": ""
            },
            "type": "mesh3d"
           }
          ],
          "parcoords": [
           {
            "line": {
             "colorbar": {
              "outlinewidth": 0,
              "ticks": ""
             }
            },
            "type": "parcoords"
           }
          ],
          "pie": [
           {
            "automargin": true,
            "type": "pie"
           }
          ],
          "scatter": [
           {
            "marker": {
             "colorbar": {
              "outlinewidth": 0,
              "ticks": ""
             }
            },
            "type": "scatter"
           }
          ],
          "scatter3d": [
           {
            "line": {
             "colorbar": {
              "outlinewidth": 0,
              "ticks": ""
             }
            },
            "marker": {
             "colorbar": {
              "outlinewidth": 0,
              "ticks": ""
             }
            },
            "type": "scatter3d"
           }
          ],
          "scattercarpet": [
           {
            "marker": {
             "colorbar": {
              "outlinewidth": 0,
              "ticks": ""
             }
            },
            "type": "scattercarpet"
           }
          ],
          "scattergeo": [
           {
            "marker": {
             "colorbar": {
              "outlinewidth": 0,
              "ticks": ""
             }
            },
            "type": "scattergeo"
           }
          ],
          "scattergl": [
           {
            "marker": {
             "colorbar": {
              "outlinewidth": 0,
              "ticks": ""
             }
            },
            "type": "scattergl"
           }
          ],
          "scattermapbox": [
           {
            "marker": {
             "colorbar": {
              "outlinewidth": 0,
              "ticks": ""
             }
            },
            "type": "scattermapbox"
           }
          ],
          "scatterpolar": [
           {
            "marker": {
             "colorbar": {
              "outlinewidth": 0,
              "ticks": ""
             }
            },
            "type": "scatterpolar"
           }
          ],
          "scatterpolargl": [
           {
            "marker": {
             "colorbar": {
              "outlinewidth": 0,
              "ticks": ""
             }
            },
            "type": "scatterpolargl"
           }
          ],
          "scatterternary": [
           {
            "marker": {
             "colorbar": {
              "outlinewidth": 0,
              "ticks": ""
             }
            },
            "type": "scatterternary"
           }
          ],
          "surface": [
           {
            "colorbar": {
             "outlinewidth": 0,
             "ticks": ""
            },
            "colorscale": [
             [
              0,
              "#0d0887"
             ],
             [
              0.1111111111111111,
              "#46039f"
             ],
             [
              0.2222222222222222,
              "#7201a8"
             ],
             [
              0.3333333333333333,
              "#9c179e"
             ],
             [
              0.4444444444444444,
              "#bd3786"
             ],
             [
              0.5555555555555556,
              "#d8576b"
             ],
             [
              0.6666666666666666,
              "#ed7953"
             ],
             [
              0.7777777777777778,
              "#fb9f3a"
             ],
             [
              0.8888888888888888,
              "#fdca26"
             ],
             [
              1,
              "#f0f921"
             ]
            ],
            "type": "surface"
           }
          ],
          "table": [
           {
            "cells": {
             "fill": {
              "color": "#EBF0F8"
             },
             "line": {
              "color": "white"
             }
            },
            "header": {
             "fill": {
              "color": "#C8D4E3"
             },
             "line": {
              "color": "white"
             }
            },
            "type": "table"
           }
          ]
         },
         "layout": {
          "annotationdefaults": {
           "arrowcolor": "#2a3f5f",
           "arrowhead": 0,
           "arrowwidth": 1
          },
          "autotypenumbers": "strict",
          "coloraxis": {
           "colorbar": {
            "outlinewidth": 0,
            "ticks": ""
           }
          },
          "colorscale": {
           "diverging": [
            [
             0,
             "#8e0152"
            ],
            [
             0.1,
             "#c51b7d"
            ],
            [
             0.2,
             "#de77ae"
            ],
            [
             0.3,
             "#f1b6da"
            ],
            [
             0.4,
             "#fde0ef"
            ],
            [
             0.5,
             "#f7f7f7"
            ],
            [
             0.6,
             "#e6f5d0"
            ],
            [
             0.7,
             "#b8e186"
            ],
            [
             0.8,
             "#7fbc41"
            ],
            [
             0.9,
             "#4d9221"
            ],
            [
             1,
             "#276419"
            ]
           ],
           "sequential": [
            [
             0,
             "#0d0887"
            ],
            [
             0.1111111111111111,
             "#46039f"
            ],
            [
             0.2222222222222222,
             "#7201a8"
            ],
            [
             0.3333333333333333,
             "#9c179e"
            ],
            [
             0.4444444444444444,
             "#bd3786"
            ],
            [
             0.5555555555555556,
             "#d8576b"
            ],
            [
             0.6666666666666666,
             "#ed7953"
            ],
            [
             0.7777777777777778,
             "#fb9f3a"
            ],
            [
             0.8888888888888888,
             "#fdca26"
            ],
            [
             1,
             "#f0f921"
            ]
           ],
           "sequentialminus": [
            [
             0,
             "#0d0887"
            ],
            [
             0.1111111111111111,
             "#46039f"
            ],
            [
             0.2222222222222222,
             "#7201a8"
            ],
            [
             0.3333333333333333,
             "#9c179e"
            ],
            [
             0.4444444444444444,
             "#bd3786"
            ],
            [
             0.5555555555555556,
             "#d8576b"
            ],
            [
             0.6666666666666666,
             "#ed7953"
            ],
            [
             0.7777777777777778,
             "#fb9f3a"
            ],
            [
             0.8888888888888888,
             "#fdca26"
            ],
            [
             1,
             "#f0f921"
            ]
           ]
          },
          "colorway": [
           "#636efa",
           "#EF553B",
           "#00cc96",
           "#ab63fa",
           "#FFA15A",
           "#19d3f3",
           "#FF6692",
           "#B6E880",
           "#FF97FF",
           "#FECB52"
          ],
          "font": {
           "color": "#2a3f5f"
          },
          "geo": {
           "bgcolor": "white",
           "lakecolor": "white",
           "landcolor": "#E5ECF6",
           "showlakes": true,
           "showland": true,
           "subunitcolor": "white"
          },
          "hoverlabel": {
           "align": "left"
          },
          "hovermode": "closest",
          "mapbox": {
           "style": "light"
          },
          "paper_bgcolor": "white",
          "plot_bgcolor": "#E5ECF6",
          "polar": {
           "angularaxis": {
            "gridcolor": "white",
            "linecolor": "white",
            "ticks": ""
           },
           "bgcolor": "#E5ECF6",
           "radialaxis": {
            "gridcolor": "white",
            "linecolor": "white",
            "ticks": ""
           }
          },
          "scene": {
           "xaxis": {
            "backgroundcolor": "#E5ECF6",
            "gridcolor": "white",
            "gridwidth": 2,
            "linecolor": "white",
            "showbackground": true,
            "ticks": "",
            "zerolinecolor": "white"
           },
           "yaxis": {
            "backgroundcolor": "#E5ECF6",
            "gridcolor": "white",
            "gridwidth": 2,
            "linecolor": "white",
            "showbackground": true,
            "ticks": "",
            "zerolinecolor": "white"
           },
           "zaxis": {
            "backgroundcolor": "#E5ECF6",
            "gridcolor": "white",
            "gridwidth": 2,
            "linecolor": "white",
            "showbackground": true,
            "ticks": "",
            "zerolinecolor": "white"
           }
          },
          "shapedefaults": {
           "line": {
            "color": "#2a3f5f"
           }
          },
          "ternary": {
           "aaxis": {
            "gridcolor": "white",
            "linecolor": "white",
            "ticks": ""
           },
           "baxis": {
            "gridcolor": "white",
            "linecolor": "white",
            "ticks": ""
           },
           "bgcolor": "#E5ECF6",
           "caxis": {
            "gridcolor": "white",
            "linecolor": "white",
            "ticks": ""
           }
          },
          "title": {
           "x": 0.05
          },
          "xaxis": {
           "automargin": true,
           "gridcolor": "white",
           "linecolor": "white",
           "ticks": "",
           "title": {
            "standoff": 15
           },
           "zerolinecolor": "white",
           "zerolinewidth": 2
          },
          "yaxis": {
           "automargin": true,
           "gridcolor": "white",
           "linecolor": "white",
           "ticks": "",
           "title": {
            "standoff": 15
           },
           "zerolinecolor": "white",
           "zerolinewidth": 2
          }
         }
        },
        "title": {
         "text": "EU27 material flows in 2017 for TJ along Sourcing | Availability | Processing | Services/goods | Outflows"
        }
       }
      },
      "text/html": [
       "<div>                            <div id=\"ae60952f-6bd0-42ff-af48-7f0e28b03321\" class=\"plotly-graph-div\" style=\"height:525px; width:100%;\"></div>            <script type=\"text/javascript\">                require([\"plotly\"], function(Plotly) {                    window.PLOTLYENV=window.PLOTLYENV || {};                                    if (document.getElementById(\"ae60952f-6bd0-42ff-af48-7f0e28b03321\")) {                    Plotly.newPlot(                        \"ae60952f-6bd0-42ff-af48-7f0e28b03321\",                        [{\"arrangement\":\"freeform\",\"link\":{\"color\":[\"#66c2a5\",\"#e78ac3\",\"#8da0cb\",\"#a6d854\",\"#8da0cb\",\"#e78ac3\",\"#8da0cb\",\"#a6d854\",\"#e78ac3\",\"#e78ac3\",\"#a6d854\",\"#8da0cb\",\"#66c2a5\",\"#e78ac3\",\"#8da0cb\",\"#a6d854\",\"#8da0cb\",\"#8da0cb\",\"#a6d854\",\"#e78ac3\",\"#a6d854\",\"#8da0cb\",\"#66c2a5\",\"#e78ac3\",\"#8da0cb\",\"#8da0cb\",\"#8da0cb\",\"#a6d854\",\"#e78ac3\",\"#a6d854\",\"#8da0cb\",\"#8da0cb\",\"#8da0cb\",\"#66c2a5\",\"#8da0cb\",\"#8da0cb\",\"#a6d854\",\"#e78ac3\",\"#8da0cb\",\"#66c2a5\",\"#e78ac3\",\"#8da0cb\",\"#a6d854\",\"#8da0cb\",\"#8da0cb\",\"#a6d854\",\"#a6d854\",\"#8da0cb\",\"#66c2a5\",\"#e78ac3\",\"#8da0cb\",\"#a6d854\",\"#8da0cb\",\"#8da0cb\",\"#a6d854\",\"#e78ac3\",\"#8da0cb\",\"#8da0cb\",\"#8da0cb\",\"#8da0cb\",\"#8da0cb\",\"#e78ac3\",\"#a6d854\",\"#a6d854\",\"#8da0cb\",\"#8da0cb\",\"#8da0cb\",\"#66c2a5\",\"#8da0cb\",\"#8da0cb\",\"#8da0cb\",\"#a6d854\",\"#e78ac3\",\"#8da0cb\",\"#66c2a5\",\"#e78ac3\",\"#8da0cb\",\"#8da0cb\",\"#8da0cb\",\"#66c2a5\",\"#8da0cb\",\"#a6d854\",\"#8da0cb\",\"#e78ac3\",\"#8da0cb\",\"#a6d854\",\"#e78ac3\",\"#e78ac3\",\"#a6d854\",\"#8da0cb\",\"#66c2a5\",\"#e78ac3\",\"#8da0cb\",\"#a6d854\",\"#8da0cb\",\"#8da0cb\",\"#a6d854\",\"#e78ac3\",\"#8da0cb\"],\"label\":[\"Bioenergy\",\"Electricity\",\"Gaseos fossil fuel\",\"Heat\",\"Liquid fossil fuel\",\"Nuclear\",\"Other fossil fuel\",\"Other renewable energy\",\"Other renewable energy\",\"Renewable electricity\",\"Renewable heat\",\"Solid fossil fuel\",\"Bioenergy\",\"Electricity\",\"Gaseos fossil fuel\",\"Heat\",\"Liquid fossil fuel\",\"Other fossil fuel\",\"Other renewable energy\",\"Other renewable energy\",\"Renewable heat\",\"Solid fossil fuel\",\"Bioenergy\",\"Electricity\",\"Gaseos fossil fuel\",\"Liquid fossil fuel\",\"Other fossil fuel\",\"Other renewable energy\",\"Other renewable energy\",\"Renewable heat\",\"Solid fossil fuel\",\"Liquid fossil fuel\",\"Solid fossil fuel\",\"Bioenergy\",\"Liquid fossil fuel\",\"Other fossil fuel\",\"Other renewable energy\",\"Other renewable energy\",\"Solid fossil fuel\",\"Bioenergy\",\"Electricity\",\"Gaseos fossil fuel\",\"Heat\",\"Liquid fossil fuel\",\"Other fossil fuel\",\"Other renewable energy\",\"Renewable heat\",\"Solid fossil fuel\",\"Bioenergy\",\"Electricity\",\"Gaseos fossil fuel\",\"Heat\",\"Liquid fossil fuel\",\"Other fossil fuel\",\"Other renewable energy\",\"Other renewable energy\",\"Solid fossil fuel\",\"Gaseos fossil fuel\",\"Liquid fossil fuel\",\"Other fossil fuel\",\"Solid fossil fuel\",\"Electricity\",\"Heat\",\"Renewable heat\",\"Gaseos fossil fuel\",\"Liquid fossil fuel\",\"Solid fossil fuel\",\"Bioenergy\",\"Gaseos fossil fuel\",\"Liquid fossil fuel\",\"Other fossil fuel\",\"Other renewable energy\",\"Other renewable energy\",\"Solid fossil fuel\",\"Bioenergy\",\"Electricity\",\"Gaseos fossil fuel\",\"Liquid fossil fuel\",\"Solid fossil fuel\",\"Bioenergy\",\"Gaseos fossil fuel\",\"Heat\",\"Liquid fossil fuel\",\"Nuclear\",\"Other fossil fuel\",\"Other renewable energy\",\"Other renewable energy\",\"Renewable electricity\",\"Renewable heat\",\"Solid fossil fuel\",\"Bioenergy\",\"Electricity\",\"Gaseos fossil fuel\",\"Heat\",\"Liquid fossil fuel\",\"Other fossil fuel\",\"Other renewable energy\",\"Other renewable energy\",\"Solid fossil fuel\"],\"source\":[2,2,2,2,2,2,2,2,2,2,2,2,2,2,2,2,2,2,2,2,2,2,2,2,2,2,2,2,2,2,2,11,11,12,12,12,12,12,12,5,5,5,5,5,5,5,5,5,5,5,5,5,5,5,5,5,5,5,5,5,5,3,3,3,5,5,5,5,5,5,5,5,5,5,5,5,5,5,5,0,0,0,0,0,0,0,0,0,0,0,1,1,1,1,1,1,1,1,1],\"target\":[3,3,3,3,3,3,3,3,3,3,3,3,4,4,4,4,4,4,4,4,4,4,5,5,5,5,5,5,5,5,5,2,2,2,2,2,2,2,2,9,9,9,9,9,9,9,9,9,10,10,10,10,10,10,10,10,10,12,12,12,12,7,7,7,6,6,6,7,7,7,7,7,7,7,8,8,8,8,8,2,2,2,2,2,2,2,2,2,2,2,2,2,2,2,2,2,2,2,2],\"value\":[1595.840688,147.7354248,4493.1314088,80.6000868,659.2284072,8160.0271452,399.0062268,362.21262839999997,1.8798732,2551.3396236000003,368.21649959999996,6584.7185244,882.8119008000001,3391.8439104,3412.4220324,659.2953960000001,953.585568,166.2033996,28.943348399999998,0.355878,11.2666788,558.874998,3425.3173764,1171.8601992,13286.9814588,39066.9428772,178.5209652,37.7984304,15.407423999999999,556.9490699999999,4101.9419376,46.046426399999994,20.0589588,20.682792000000003,409.0545468,0.020934,0.041868,0.020934,75.07351080000001,29.5043796,1448.9216892,822.3168276000001,421.150212,1093.6842696,1.9426751999999998,0.334944,0.0167472,29.487632400000003,492.19602119999996,1336.0664952,3618.3456036000002,0.20934,15084.642654000001,1.528182,1.7249616,2.3320475999999997,607.6763388,44.170739999999995,69.4925064,0.1339776,6.7533084,5420.8425528,1328.3167283999999,544.6943064,621.5848884000001,3275.0740584,73.08478079999999,1996.6095576,5089.57875,2524.8874212,8.7127308,6.7951764,15.646071599999999,460.673604,579.3651971999999,209.8298556,139.97309760000002,12760.554160799998,0.0586152,4941.15669,2788.8232932,47.4029496,1092.8008548,8160.0271452,556.7732244,380.62198799999993,1.8798732,2551.3396236000003,928.9169424,5395.0518648,643.2306444,1319.595624,14728.4673912,0.25958159999999997,36754.987730400004,20.7288468,19.351389599999997,15.38649,4570.9137792]},\"node\":{\"color\":\"cornsilk\",\"label\":[\"Domestic Extraction\",\"Imports\",\"Domestic Input\",\"Electricity and heat generation\",\"Food industry (incl. Livestock)\",\"Forestry industry\",\"Material industry\",\"Materials\",\"Refinery, direct carry over and other\",\"Animal-based food\",\"Consumables\",\"Plant-based food\",\"Residential housing and other services\",\"Transport\",\"Emissions\",\"Energy industry (consumption and losses)\",\"Exports\",\"Landfill\",\"Losses\",\"Recovery\",\"Stocks\",\"Waste_treatment\"],\"pad\":8,\"thickness\":5,\"x\":[0.001,0.001,0.2,0.4,0.4,0.4,0.6,0.6,0.6,0.8,0.8,0.8,0.8],\"y\":[0.31612713738634884,0.999,0.999,0.26105855270078665,0.3644957415102876,0.999,0.11323915577228799,0.6094913573299285,0.999,0.15050452557202465,0.9776631005085955,0.9802490714728046,0.999]},\"type\":\"sankey\"}],                        {\"template\":{\"data\":{\"bar\":[{\"error_x\":{\"color\":\"#2a3f5f\"},\"error_y\":{\"color\":\"#2a3f5f\"},\"marker\":{\"line\":{\"color\":\"#E5ECF6\",\"width\":0.5},\"pattern\":{\"fillmode\":\"overlay\",\"size\":10,\"solidity\":0.2}},\"type\":\"bar\"}],\"barpolar\":[{\"marker\":{\"line\":{\"color\":\"#E5ECF6\",\"width\":0.5},\"pattern\":{\"fillmode\":\"overlay\",\"size\":10,\"solidity\":0.2}},\"type\":\"barpolar\"}],\"carpet\":[{\"aaxis\":{\"endlinecolor\":\"#2a3f5f\",\"gridcolor\":\"white\",\"linecolor\":\"white\",\"minorgridcolor\":\"white\",\"startlinecolor\":\"#2a3f5f\"},\"baxis\":{\"endlinecolor\":\"#2a3f5f\",\"gridcolor\":\"white\",\"linecolor\":\"white\",\"minorgridcolor\":\"white\",\"startlinecolor\":\"#2a3f5f\"},\"type\":\"carpet\"}],\"choropleth\":[{\"colorbar\":{\"outlinewidth\":0,\"ticks\":\"\"},\"type\":\"choropleth\"}],\"contour\":[{\"colorbar\":{\"outlinewidth\":0,\"ticks\":\"\"},\"colorscale\":[[0.0,\"#0d0887\"],[0.1111111111111111,\"#46039f\"],[0.2222222222222222,\"#7201a8\"],[0.3333333333333333,\"#9c179e\"],[0.4444444444444444,\"#bd3786\"],[0.5555555555555556,\"#d8576b\"],[0.6666666666666666,\"#ed7953\"],[0.7777777777777778,\"#fb9f3a\"],[0.8888888888888888,\"#fdca26\"],[1.0,\"#f0f921\"]],\"type\":\"contour\"}],\"contourcarpet\":[{\"colorbar\":{\"outlinewidth\":0,\"ticks\":\"\"},\"type\":\"contourcarpet\"}],\"heatmap\":[{\"colorbar\":{\"outlinewidth\":0,\"ticks\":\"\"},\"colorscale\":[[0.0,\"#0d0887\"],[0.1111111111111111,\"#46039f\"],[0.2222222222222222,\"#7201a8\"],[0.3333333333333333,\"#9c179e\"],[0.4444444444444444,\"#bd3786\"],[0.5555555555555556,\"#d8576b\"],[0.6666666666666666,\"#ed7953\"],[0.7777777777777778,\"#fb9f3a\"],[0.8888888888888888,\"#fdca26\"],[1.0,\"#f0f921\"]],\"type\":\"heatmap\"}],\"heatmapgl\":[{\"colorbar\":{\"outlinewidth\":0,\"ticks\":\"\"},\"colorscale\":[[0.0,\"#0d0887\"],[0.1111111111111111,\"#46039f\"],[0.2222222222222222,\"#7201a8\"],[0.3333333333333333,\"#9c179e\"],[0.4444444444444444,\"#bd3786\"],[0.5555555555555556,\"#d8576b\"],[0.6666666666666666,\"#ed7953\"],[0.7777777777777778,\"#fb9f3a\"],[0.8888888888888888,\"#fdca26\"],[1.0,\"#f0f921\"]],\"type\":\"heatmapgl\"}],\"histogram\":[{\"marker\":{\"pattern\":{\"fillmode\":\"overlay\",\"size\":10,\"solidity\":0.2}},\"type\":\"histogram\"}],\"histogram2d\":[{\"colorbar\":{\"outlinewidth\":0,\"ticks\":\"\"},\"colorscale\":[[0.0,\"#0d0887\"],[0.1111111111111111,\"#46039f\"],[0.2222222222222222,\"#7201a8\"],[0.3333333333333333,\"#9c179e\"],[0.4444444444444444,\"#bd3786\"],[0.5555555555555556,\"#d8576b\"],[0.6666666666666666,\"#ed7953\"],[0.7777777777777778,\"#fb9f3a\"],[0.8888888888888888,\"#fdca26\"],[1.0,\"#f0f921\"]],\"type\":\"histogram2d\"}],\"histogram2dcontour\":[{\"colorbar\":{\"outlinewidth\":0,\"ticks\":\"\"},\"colorscale\":[[0.0,\"#0d0887\"],[0.1111111111111111,\"#46039f\"],[0.2222222222222222,\"#7201a8\"],[0.3333333333333333,\"#9c179e\"],[0.4444444444444444,\"#bd3786\"],[0.5555555555555556,\"#d8576b\"],[0.6666666666666666,\"#ed7953\"],[0.7777777777777778,\"#fb9f3a\"],[0.8888888888888888,\"#fdca26\"],[1.0,\"#f0f921\"]],\"type\":\"histogram2dcontour\"}],\"mesh3d\":[{\"colorbar\":{\"outlinewidth\":0,\"ticks\":\"\"},\"type\":\"mesh3d\"}],\"parcoords\":[{\"line\":{\"colorbar\":{\"outlinewidth\":0,\"ticks\":\"\"}},\"type\":\"parcoords\"}],\"pie\":[{\"automargin\":true,\"type\":\"pie\"}],\"scatter\":[{\"marker\":{\"colorbar\":{\"outlinewidth\":0,\"ticks\":\"\"}},\"type\":\"scatter\"}],\"scatter3d\":[{\"line\":{\"colorbar\":{\"outlinewidth\":0,\"ticks\":\"\"}},\"marker\":{\"colorbar\":{\"outlinewidth\":0,\"ticks\":\"\"}},\"type\":\"scatter3d\"}],\"scattercarpet\":[{\"marker\":{\"colorbar\":{\"outlinewidth\":0,\"ticks\":\"\"}},\"type\":\"scattercarpet\"}],\"scattergeo\":[{\"marker\":{\"colorbar\":{\"outlinewidth\":0,\"ticks\":\"\"}},\"type\":\"scattergeo\"}],\"scattergl\":[{\"marker\":{\"colorbar\":{\"outlinewidth\":0,\"ticks\":\"\"}},\"type\":\"scattergl\"}],\"scattermapbox\":[{\"marker\":{\"colorbar\":{\"outlinewidth\":0,\"ticks\":\"\"}},\"type\":\"scattermapbox\"}],\"scatterpolar\":[{\"marker\":{\"colorbar\":{\"outlinewidth\":0,\"ticks\":\"\"}},\"type\":\"scatterpolar\"}],\"scatterpolargl\":[{\"marker\":{\"colorbar\":{\"outlinewidth\":0,\"ticks\":\"\"}},\"type\":\"scatterpolargl\"}],\"scatterternary\":[{\"marker\":{\"colorbar\":{\"outlinewidth\":0,\"ticks\":\"\"}},\"type\":\"scatterternary\"}],\"surface\":[{\"colorbar\":{\"outlinewidth\":0,\"ticks\":\"\"},\"colorscale\":[[0.0,\"#0d0887\"],[0.1111111111111111,\"#46039f\"],[0.2222222222222222,\"#7201a8\"],[0.3333333333333333,\"#9c179e\"],[0.4444444444444444,\"#bd3786\"],[0.5555555555555556,\"#d8576b\"],[0.6666666666666666,\"#ed7953\"],[0.7777777777777778,\"#fb9f3a\"],[0.8888888888888888,\"#fdca26\"],[1.0,\"#f0f921\"]],\"type\":\"surface\"}],\"table\":[{\"cells\":{\"fill\":{\"color\":\"#EBF0F8\"},\"line\":{\"color\":\"white\"}},\"header\":{\"fill\":{\"color\":\"#C8D4E3\"},\"line\":{\"color\":\"white\"}},\"type\":\"table\"}]},\"layout\":{\"annotationdefaults\":{\"arrowcolor\":\"#2a3f5f\",\"arrowhead\":0,\"arrowwidth\":1},\"autotypenumbers\":\"strict\",\"coloraxis\":{\"colorbar\":{\"outlinewidth\":0,\"ticks\":\"\"}},\"colorscale\":{\"diverging\":[[0,\"#8e0152\"],[0.1,\"#c51b7d\"],[0.2,\"#de77ae\"],[0.3,\"#f1b6da\"],[0.4,\"#fde0ef\"],[0.5,\"#f7f7f7\"],[0.6,\"#e6f5d0\"],[0.7,\"#b8e186\"],[0.8,\"#7fbc41\"],[0.9,\"#4d9221\"],[1,\"#276419\"]],\"sequential\":[[0.0,\"#0d0887\"],[0.1111111111111111,\"#46039f\"],[0.2222222222222222,\"#7201a8\"],[0.3333333333333333,\"#9c179e\"],[0.4444444444444444,\"#bd3786\"],[0.5555555555555556,\"#d8576b\"],[0.6666666666666666,\"#ed7953\"],[0.7777777777777778,\"#fb9f3a\"],[0.8888888888888888,\"#fdca26\"],[1.0,\"#f0f921\"]],\"sequentialminus\":[[0.0,\"#0d0887\"],[0.1111111111111111,\"#46039f\"],[0.2222222222222222,\"#7201a8\"],[0.3333333333333333,\"#9c179e\"],[0.4444444444444444,\"#bd3786\"],[0.5555555555555556,\"#d8576b\"],[0.6666666666666666,\"#ed7953\"],[0.7777777777777778,\"#fb9f3a\"],[0.8888888888888888,\"#fdca26\"],[1.0,\"#f0f921\"]]},\"colorway\":[\"#636efa\",\"#EF553B\",\"#00cc96\",\"#ab63fa\",\"#FFA15A\",\"#19d3f3\",\"#FF6692\",\"#B6E880\",\"#FF97FF\",\"#FECB52\"],\"font\":{\"color\":\"#2a3f5f\"},\"geo\":{\"bgcolor\":\"white\",\"lakecolor\":\"white\",\"landcolor\":\"#E5ECF6\",\"showlakes\":true,\"showland\":true,\"subunitcolor\":\"white\"},\"hoverlabel\":{\"align\":\"left\"},\"hovermode\":\"closest\",\"mapbox\":{\"style\":\"light\"},\"paper_bgcolor\":\"white\",\"plot_bgcolor\":\"#E5ECF6\",\"polar\":{\"angularaxis\":{\"gridcolor\":\"white\",\"linecolor\":\"white\",\"ticks\":\"\"},\"bgcolor\":\"#E5ECF6\",\"radialaxis\":{\"gridcolor\":\"white\",\"linecolor\":\"white\",\"ticks\":\"\"}},\"scene\":{\"xaxis\":{\"backgroundcolor\":\"#E5ECF6\",\"gridcolor\":\"white\",\"gridwidth\":2,\"linecolor\":\"white\",\"showbackground\":true,\"ticks\":\"\",\"zerolinecolor\":\"white\"},\"yaxis\":{\"backgroundcolor\":\"#E5ECF6\",\"gridcolor\":\"white\",\"gridwidth\":2,\"linecolor\":\"white\",\"showbackground\":true,\"ticks\":\"\",\"zerolinecolor\":\"white\"},\"zaxis\":{\"backgroundcolor\":\"#E5ECF6\",\"gridcolor\":\"white\",\"gridwidth\":2,\"linecolor\":\"white\",\"showbackground\":true,\"ticks\":\"\",\"zerolinecolor\":\"white\"}},\"shapedefaults\":{\"line\":{\"color\":\"#2a3f5f\"}},\"ternary\":{\"aaxis\":{\"gridcolor\":\"white\",\"linecolor\":\"white\",\"ticks\":\"\"},\"baxis\":{\"gridcolor\":\"white\",\"linecolor\":\"white\",\"ticks\":\"\"},\"bgcolor\":\"#E5ECF6\",\"caxis\":{\"gridcolor\":\"white\",\"linecolor\":\"white\",\"ticks\":\"\"}},\"title\":{\"x\":0.05},\"xaxis\":{\"automargin\":true,\"gridcolor\":\"white\",\"linecolor\":\"white\",\"ticks\":\"\",\"title\":{\"standoff\":15},\"zerolinecolor\":\"white\",\"zerolinewidth\":2},\"yaxis\":{\"automargin\":true,\"gridcolor\":\"white\",\"linecolor\":\"white\",\"ticks\":\"\",\"title\":{\"standoff\":15},\"zerolinecolor\":\"white\",\"zerolinewidth\":2}}},\"title\":{\"text\":\"EU27 material flows in 2017 for TJ along Sourcing | Availability | Processing | Services/goods | Outflows\"},\"font\":{\"size\":10}},                        {\"responsive\": true}                    ).then(function(){\n",
       "                            \n",
       "var gd = document.getElementById('ae60952f-6bd0-42ff-af48-7f0e28b03321');\n",
       "var x = new MutationObserver(function (mutations, observer) {{\n",
       "        var display = window.getComputedStyle(gd).display;\n",
       "        if (!display || display === 'none') {{\n",
       "            console.log([gd, 'removed!']);\n",
       "            Plotly.purge(gd);\n",
       "            observer.disconnect();\n",
       "        }}\n",
       "}});\n",
       "\n",
       "// Listen for the removal of the full notebook cells\n",
       "var notebookContainer = gd.closest('#notebook-container');\n",
       "if (notebookContainer) {{\n",
       "    x.observe(notebookContainer, {childList: true});\n",
       "}}\n",
       "\n",
       "// Listen for the clearing of the current output cell\n",
       "var outputEl = gd.closest('.output');\n",
       "if (outputEl) {{\n",
       "    x.observe(outputEl, {childList: true});\n",
       "}}\n",
       "\n",
       "                        })                };                });            </script>        </div>"
      ]
     },
     "metadata": {},
     "output_type": "display_data"
    }
   ],
   "source": [
    "#optional, if desiring to visualize statically without interactivity\n",
    "#need to set year and unit to filter dataframe\n",
    "\n",
    "#filter payload\n",
    "unit = 'TJ'\n",
    "year = 2017\n",
    "\n",
    "#filtering df\n",
    "filter_list = [i and j for i, j in zip(df['Value.type'] == unit, df['Value.info'] == year)]\n",
    "temp_df = df[filter_list]\n",
    "\n",
    "#creating ordered lists of nodes' indices and their x-levels\n",
    "elements_positions, unique_sources_targets = calc_node_x(temp_df, 'Source', 'Target')\n",
    "\n",
    "#redeclare node_dict (this is done, because filtering the same node_dict will not work with Plotly as no breaks in numeric/integer node sequences can be handled. An alternative may be to manipulate the broken sequence, but manage to access the node_dict keys anyway)\n",
    "node_dict = dict()\n",
    "for i,e in zip(range(len(unique_sources_targets)), elements_positions):\n",
    "    node_dict[str(unique_sources_targets[i])] = {'Source_level_str': e, 'Source_level_int': x_lvl_dict[e][\"Int\"], 'Node_index': i}\n",
    "\n",
    "#save each node's aggregated values in node_dict\n",
    "aggregate_node_values(temp_df, node_dict)\n",
    "#save each x-level's aggregated values in x_lvl_dict\n",
    "aggregate_values_by_x_level(node_dict, x_lvl_dict)\n",
    "\n",
    "payload_x, payload_y = nodes_xypositions(elements_positions, node_dict, x_lvl_dict)\n",
    "\n",
    "#sankey source and target payload for link dict\n",
    "source, target = calculate_link_sources_targets_alt(temp_df, node_dict)\n",
    "\n",
    "# static sankey visualization without interactivity\n",
    "fig = go.Figure(data=[go.Sankey(\n",
    "    arrangement= \"freeform\",\n",
    "    node = dict(\n",
    "      label = payload_nodes,\n",
    "      x = [.001 if x==0.2 else round(x - 0.2,1) for x in payload_x],\n",
    "      y = [.999 if y==1 else y for y in payload_y],\n",
    "      pad = 8,\n",
    "      thickness = 5,\n",
    "      color = \"cornsilk\"\n",
    "    ),\n",
    "    link = dict(\n",
    "      source = source,\n",
    "      target = target,\n",
    "      value = temp_df['Value']/1000,\n",
    "      label = temp_df['Label'],\n",
    "      color = temp_df['Colour']\n",
    "  ))])\n",
    "\n",
    "fig.update_layout(title_text=f\"EU27 material flows in {year} for {unit} along Sourcing | Availability | Processing | Services/goods | Outflows\", font_size=10)\n",
    "# fig.update_layout(width = 10*1920/10, height = 7*1080/10, title_text=\"EU28 material flows in 2017 Mass_now/kt Source | Availability | Processing | Services/goods | Outflows\", font_size=10)\n",
    "fig.show()"
   ]
  },
  {
   "cell_type": "code",
   "execution_count": 18,
   "metadata": {
    "scrolled": false
   },
   "outputs": [
    {
     "data": {
      "text/html": [
       "\n",
       "        <iframe\n",
       "            width=\"100%\"\n",
       "            height=\"650\"\n",
       "            src=\"http://127.0.0.1:8052/\"\n",
       "            frameborder=\"0\"\n",
       "            allowfullscreen\n",
       "        ></iframe>\n",
       "        "
      ],
      "text/plain": [
       "<IPython.lib.display.IFrame at 0x7f99628afac0>"
      ]
     },
     "metadata": {},
     "output_type": "display_data"
    }
   ],
   "source": [
    "#essential\n",
    "#dynamic sankey visualization with radio buttons and slider filters\n",
    "app = JupyterDash(__name__)\n",
    "\n",
    "app.layout = html.Div([\n",
    "    html.Div([\n",
    "        html.Div(children=[\n",
    "            html.Div(id='my-output')\n",
    "        ], style={'margin': 'auto', 'text-align': 'center', 'fontFamily': 'Arial'}),\n",
    "        html.Br(),\n",
    "        html.Br(),\n",
    "        html.Div([\n",
    "            dcc.RadioItems(\n",
    "                df['Value.type'].unique(),\n",
    "                value = df['Value.type'].unique()[0],\n",
    "                id='xaxis-column',\n",
    "                inline=True\n",
    "            )], style={'margin': 'auto', 'fontFamily': 'Arial', 'width': '48%','text-align': 'center'})\n",
    "    ]),\n",
    "\n",
    "    dcc.Graph(id='indicator-graphic'),\n",
    "\n",
    "    html.Div([\n",
    "        dcc.Slider(\n",
    "            df['Value.info'].min(),\n",
    "            df['Value.info'].max(),\n",
    "            step=None,\n",
    "            id='year--slider',\n",
    "            value=df['Value.info'].max(),\n",
    "            marks={str(year): str(year) for year in df['Value.info'].unique()},\n",
    "        )], style={'fontFamily': 'Arial', 'width': '70%', 'margin': 'auto'})\n",
    "    \n",
    "])\n",
    "\n",
    "@app.callback(\n",
    "    Output('indicator-graphic', 'figure'),\n",
    "    Output('my-output', 'children'),\n",
    "    Input('xaxis-column', 'value'),\n",
    "    Input('year--slider', 'value'))\n",
    "\n",
    "def update_graph_and_title(xaxis_column_name, year_value):\n",
    "    \n",
    "    filter_list = [i and j for i, j in zip(df['Value.type'] == xaxis_column_name, df['Value.info'] == year_value)]\n",
    "    temp_df = df[filter_list]\n",
    "    \n",
    "    #creating ordered lists of nodes' indices and their x-levels\n",
    "    elements_positions, unique_sources_targets = calc_node_x(temp_df, 'Source', 'Target')\n",
    "\n",
    "    #redeclare node_dict (this is done, because filtering the same node_dict will not work with Plotly as no breaks in numeric/integer node sequences can be handled. An alternative may be to manipulate the broken sequence, but manage to access the node_dict keys anyway)\n",
    "    node_dict = dict()\n",
    "    for i,e in zip(range(len(unique_sources_targets)), elements_positions):\n",
    "        node_dict[str(unique_sources_targets[i])] = {'Source_level_str': e, 'Source_level_int': x_lvl_dict[e][\"Int\"], 'Node_index': i}\n",
    "\n",
    "    #save each node's aggregated values in node_dict\n",
    "    aggregate_node_values(temp_df, node_dict)\n",
    "    #save each x-level's aggregated values in x_lvl_dict\n",
    "    aggregate_values_by_x_level(node_dict, x_lvl_dict)\n",
    "\n",
    "    payload_x, payload_y = nodes_xypositions(elements_positions, node_dict, x_lvl_dict)\n",
    "\n",
    "    #sankey source and target payload for link dict\n",
    "    source, target = calculate_link_sources_targets_alt(temp_df, node_dict)\n",
    "    \n",
    "    payload_title = f\"EU27 material flows in {year_value} for {xaxis_column_name} along Sourcing | Availability | Processing | Services/goods | Outflows\"\n",
    "\n",
    "    new_fig = go.Figure(data=[go.Sankey(\n",
    "        domain = dict(\n",
    "          x =  [0,1],\n",
    "          y =  [0,1]\n",
    "        ),\n",
    "        arrangement= \"freeform\",\n",
    "        node = dict(\n",
    "          label = payload_nodes,\n",
    "          x = [.001 if x==0.2 else round(x - 0.2,1) for x in payload_x],\n",
    "          y = [.999 if y==1 else y for y in payload_y],\n",
    "          pad = 8,\n",
    "          thickness = 5,\n",
    "          color = \"cornsilk\"\n",
    "        ),\n",
    "        link = dict(\n",
    "          source = source,\n",
    "          target = target,\n",
    "          value = temp_df['Value']/1000,\n",
    "          label = temp_df['Label'],\n",
    "          color = temp_df['Colour']\n",
    "      ))])\n",
    "    \n",
    "    new_fig.update_layout(height=700)\n",
    "\n",
    "    return new_fig, payload_title\n",
    "if __name__ == '__main__':\n",
    "    app.run_server(port = 8052, mode = \"inline\", debug=True)"
   ]
  }
 ],
 "metadata": {
  "kernelspec": {
   "display_name": "Python 3",
   "language": "python",
   "name": "python3"
  },
  "language_info": {
   "codemirror_mode": {
    "name": "ipython",
    "version": 3
   },
   "file_extension": ".py",
   "mimetype": "text/x-python",
   "name": "python",
   "nbconvert_exporter": "python",
   "pygments_lexer": "ipython3",
   "version": "3.8.5"
  }
 },
 "nbformat": 4,
 "nbformat_minor": 4
}
