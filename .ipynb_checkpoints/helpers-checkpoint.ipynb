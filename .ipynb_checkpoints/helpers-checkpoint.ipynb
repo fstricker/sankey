{
 "cells": [
  {
   "cell_type": "code",
   "execution_count": 4,
   "metadata": {},
   "outputs": [],
   "source": [
    "import plotly.graph_objects as go\n",
    "import pandas as pd"
   ]
  },
  {
   "cell_type": "code",
   "execution_count": 34,
   "metadata": {},
   "outputs": [],
   "source": [
    "df = pd.read_csv(\"data/sk.csv\")\n",
    "#drop first col\n",
    "df.drop(df.columns[0], axis=1, inplace=True)"
   ]
  },
  {
   "cell_type": "code",
   "execution_count": 7,
   "metadata": {},
   "outputs": [],
   "source": [
    "#maybe change this to a class/object which holds both the list of nodes and a dictionary which holds numeric data relating to x-position:\n",
    "def find_node_levels(df, node_in, node_out):\n",
    "    '''\n",
    "    Retrieve number of node levels for x for entire data set.\n",
    "    '''\n",
    "    try:\n",
    "        source_targets = []\n",
    "        \n",
    "        for col in df[[node_in, node_out]]:\n",
    "            source_targets.extend(list(df[col].unique()))\n",
    "        \n",
    "        source_targets = set(source_targets)\n",
    "        print(f'Unique values of {node_in} and {node_out}:\\n')\n",
    "        \n",
    "        for count, value in enumerate(source_targets):\n",
    "            print(f'{count+1}: \"{value}\"')\n",
    "            \n",
    "        return list(source_targets)\n",
    "        \n",
    "    except:\n",
    "        print(f'There was a problem retrieving information for \"{node_in}\" and \"{node_out}\" from the dataframe.')"
   ]
  },
  {
   "cell_type": "code",
   "execution_count": 47,
   "metadata": {
    "scrolled": true
   },
   "outputs": [
    {
     "name": "stdout",
     "output_type": "stream",
     "text": [
      "Unique values of Source.level and Target.level:\n",
      "\n",
      "1: \"Services\"\n",
      "2: \"Availability\"\n",
      "3: \"Sourcing\"\n",
      "4: \"Back-outflows\"\n",
      "5: \"Processing\"\n"
     ]
    }
   ],
   "source": [
    "x_levels = find_node_levels(df, 'Source.level', 'Target.level')"
   ]
  },
  {
   "cell_type": "code",
   "execution_count": 48,
   "metadata": {},
   "outputs": [
    {
     "data": {
      "text/plain": [
       "['Services', 'Availability', 'Sourcing', 'Back-outflows', 'Processing']"
      ]
     },
     "execution_count": 48,
     "metadata": {},
     "output_type": "execute_result"
    }
   ],
   "source": [
    "x_levels"
   ]
  },
  {
   "cell_type": "code",
   "execution_count": 12,
   "metadata": {},
   "outputs": [],
   "source": [
    "x_dict = {'Sourcing': 1, 'Availability': 2, 'Processing': 3, 'Services': 4, 'Back-outflows': 5}"
   ]
  },
  {
   "cell_type": "code",
   "execution_count": 49,
   "metadata": {},
   "outputs": [],
   "source": [
    "def calc_x(levels, df, node_column, glossary):\n",
    "    '''\n",
    "    Calculate the x-position of Sankey nodes, and save it in a list. \n",
    "    Nota bene: Apparently no distinction btw. 0 and .1\n",
    "    '''\n",
    "    x_payload = []\n",
    "    n_nodes = len(levels)\n",
    "    \n",
    "    \n",
    "    for j in range(0, len(df)):\n",
    "        for i in range(0, n_nodes):\n",
    "            if levels[i] == df[node_column][j]:\n",
    "                for key, value in glossary.items():\n",
    "                    if key == df[node_column][j]:\n",
    "                        x_payload.append(value/n_nodes);\n",
    "                        break;\n",
    "    return x_payload;"
   ]
  },
  {
   "cell_type": "code",
   "execution_count": 50,
   "metadata": {},
   "outputs": [],
   "source": [
    "test_calc_x = calc_x(x_levels, df, 'Source.level', x_dict)"
   ]
  },
  {
   "cell_type": "code",
   "execution_count": 58,
   "metadata": {},
   "outputs": [
    {
     "data": {
      "text/plain": [
       "count              273\n",
       "unique               4\n",
       "top       Availability\n",
       "freq                76\n",
       "Name: Target.level, dtype: object"
      ]
     },
     "execution_count": 58,
     "metadata": {},
     "output_type": "execute_result"
    }
   ],
   "source": [
    "#df['Target.level'].describe()\n",
    "#df['Source.level'].unique()"
   ]
  }
 ],
 "metadata": {
  "kernelspec": {
   "display_name": "Python 3",
   "language": "python",
   "name": "python3"
  },
  "language_info": {
   "codemirror_mode": {
    "name": "ipython",
    "version": 3
   },
   "file_extension": ".py",
   "mimetype": "text/x-python",
   "name": "python",
   "nbconvert_exporter": "python",
   "pygments_lexer": "ipython3",
   "version": "3.8.5"
  }
 },
 "nbformat": 4,
 "nbformat_minor": 4
}
